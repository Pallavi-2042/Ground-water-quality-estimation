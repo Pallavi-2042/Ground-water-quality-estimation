{
 "cells": [
  {
   "cell_type": "code",
   "execution_count": 1,
   "id": "097f2a31-ed7b-41f3-a80d-5ee759879418",
   "metadata": {},
   "outputs": [],
   "source": [
    "import numpy as np\n",
    "import pandas as pd\n",
    "import matplotlib.pyplot as plt\n",
    "import seaborn as sns\n",
    "import warnings\n",
    "warnings.filterwarnings('ignore')"
   ]
  },
  {
   "cell_type": "code",
   "execution_count": 2,
   "id": "ff738c5f-589a-427f-be73-45e04ede2b44",
   "metadata": {},
   "outputs": [
    {
     "data": {
      "text/html": [
       "<div>\n",
       "<style scoped>\n",
       "    .dataframe tbody tr th:only-of-type {\n",
       "        vertical-align: middle;\n",
       "    }\n",
       "\n",
       "    .dataframe tbody tr th {\n",
       "        vertical-align: top;\n",
       "    }\n",
       "\n",
       "    .dataframe thead th {\n",
       "        text-align: right;\n",
       "    }\n",
       "</style>\n",
       "<table border=\"1\" class=\"dataframe\">\n",
       "  <thead>\n",
       "    <tr style=\"text-align: right;\">\n",
       "      <th></th>\n",
       "      <th>Station Code</th>\n",
       "      <th>Water Quality</th>\n",
       "      <th>Locations</th>\n",
       "      <th>State Name</th>\n",
       "      <th>TEMPERATURE (degree Centigrade)-Minimum</th>\n",
       "      <th>TEMPERATURE (degree Centigrade)-Maximum</th>\n",
       "      <th>TEMPERATURE (degree Centigrade)-Mean</th>\n",
       "      <th>Dissolved Oxygen(D.O.) (mg/l)-Minimum</th>\n",
       "      <th>Dissolved Oxygen(D.O.) (mg/l)-Maximum</th>\n",
       "      <th>Dissolved Oxygen(D.O.) (mg/l)-Mean</th>\n",
       "      <th>...</th>\n",
       "      <th>NITRATE- N (mg/l)-Mean</th>\n",
       "      <th>NITRITE-N (mg/l)-Minimum</th>\n",
       "      <th>NITRITE-N (mg/l)-Maximum</th>\n",
       "      <th>NITRITE-N (mg/l)-Mean</th>\n",
       "      <th>FECAL COLIFORM (MPN/100ml)-Minimum</th>\n",
       "      <th>FECAL COLIFORM (MPN/100ml)-Maximum</th>\n",
       "      <th>FECAL COLIFORM (MPN/100ml)-Mean</th>\n",
       "      <th>TOTAL COLIFORM (MPN/100ml)-Minimum</th>\n",
       "      <th>TOTAL COLIFORM (MPN/100ml)-Maximum</th>\n",
       "      <th>TOTAL COLIFORM (MPN/100ml)-Mean</th>\n",
       "    </tr>\n",
       "  </thead>\n",
       "  <tbody>\n",
       "    <tr>\n",
       "      <th>0</th>\n",
       "      <td>15</td>\n",
       "      <td>GROUND WATER QUALITY OF ANDHRA PRADESH</td>\n",
       "      <td>WELL AT KUYYURA- A.P.</td>\n",
       "      <td>ANDHRA PRADESH</td>\n",
       "      <td>22.0</td>\n",
       "      <td>28.0</td>\n",
       "      <td>25.0</td>\n",
       "      <td>NaN</td>\n",
       "      <td>NaN</td>\n",
       "      <td>NaN</td>\n",
       "      <td>...</td>\n",
       "      <td>0.3</td>\n",
       "      <td>0.1</td>\n",
       "      <td>0.1</td>\n",
       "      <td>0.1</td>\n",
       "      <td>1.0</td>\n",
       "      <td>2.0</td>\n",
       "      <td>2.0</td>\n",
       "      <td>16.0</td>\n",
       "      <td>260.0</td>\n",
       "      <td>138.0</td>\n",
       "    </tr>\n",
       "    <tr>\n",
       "      <th>1</th>\n",
       "      <td>16</td>\n",
       "      <td>GROUND WATER QUALITY OF ANDHRA PRADESH</td>\n",
       "      <td>WELL AT TADAVAI A.P.</td>\n",
       "      <td>ANDHRA PRADESH</td>\n",
       "      <td>22.0</td>\n",
       "      <td>26.0</td>\n",
       "      <td>24.0</td>\n",
       "      <td>NaN</td>\n",
       "      <td>NaN</td>\n",
       "      <td>NaN</td>\n",
       "      <td>...</td>\n",
       "      <td>4.2</td>\n",
       "      <td>0.1</td>\n",
       "      <td>0.1</td>\n",
       "      <td>0.1</td>\n",
       "      <td>1.0</td>\n",
       "      <td>2.0</td>\n",
       "      <td>2.0</td>\n",
       "      <td>8.0</td>\n",
       "      <td>20.0</td>\n",
       "      <td>14.0</td>\n",
       "    </tr>\n",
       "    <tr>\n",
       "      <th>2</th>\n",
       "      <td>26</td>\n",
       "      <td>GROUND WATER QUALITY OF ANDHRA PRADESH</td>\n",
       "      <td>WELL AT VIJAYWADA- A.P.</td>\n",
       "      <td>ANDHRA PRADESH</td>\n",
       "      <td>30.0</td>\n",
       "      <td>30.0</td>\n",
       "      <td>30.0</td>\n",
       "      <td>NaN</td>\n",
       "      <td>NaN</td>\n",
       "      <td>NaN</td>\n",
       "      <td>...</td>\n",
       "      <td>1.8</td>\n",
       "      <td>0.1</td>\n",
       "      <td>0.1</td>\n",
       "      <td>0.1</td>\n",
       "      <td>2.0</td>\n",
       "      <td>2.0</td>\n",
       "      <td>2.0</td>\n",
       "      <td>1100.0</td>\n",
       "      <td>1100.0</td>\n",
       "      <td>1100.0</td>\n",
       "    </tr>\n",
       "    <tr>\n",
       "      <th>3</th>\n",
       "      <td>27</td>\n",
       "      <td>GROUND WATER QUALITY OF ANDHRA PRADESH</td>\n",
       "      <td>WELL AT PEDDAVOORA- A.P.</td>\n",
       "      <td>ANDHRA PRADESH</td>\n",
       "      <td>22.0</td>\n",
       "      <td>22.0</td>\n",
       "      <td>22.0</td>\n",
       "      <td>NaN</td>\n",
       "      <td>NaN</td>\n",
       "      <td>NaN</td>\n",
       "      <td>...</td>\n",
       "      <td>1.5</td>\n",
       "      <td>NaN</td>\n",
       "      <td>NaN</td>\n",
       "      <td>NaN</td>\n",
       "      <td>2.0</td>\n",
       "      <td>2.0</td>\n",
       "      <td>2.0</td>\n",
       "      <td>50.0</td>\n",
       "      <td>50.0</td>\n",
       "      <td>50.0</td>\n",
       "    </tr>\n",
       "    <tr>\n",
       "      <th>4</th>\n",
       "      <td>1791</td>\n",
       "      <td>GROUND WATER QUALITY OF ANDHRA PRADESH</td>\n",
       "      <td>B/W.- EAST OF SAICHERUVU-PAIDIPALLY (V)-WARANG...</td>\n",
       "      <td>ANDHRA PRADESH</td>\n",
       "      <td>20.0</td>\n",
       "      <td>25.0</td>\n",
       "      <td>23.0</td>\n",
       "      <td>NaN</td>\n",
       "      <td>NaN</td>\n",
       "      <td>NaN</td>\n",
       "      <td>...</td>\n",
       "      <td>10.5</td>\n",
       "      <td>0.1</td>\n",
       "      <td>0.1</td>\n",
       "      <td>0.1</td>\n",
       "      <td>2.0</td>\n",
       "      <td>40.0</td>\n",
       "      <td>21.0</td>\n",
       "      <td>24.0</td>\n",
       "      <td>800.0</td>\n",
       "      <td>412.0</td>\n",
       "    </tr>\n",
       "  </tbody>\n",
       "</table>\n",
       "<p>5 rows × 31 columns</p>\n",
       "</div>"
      ],
      "text/plain": [
       "   Station Code                           Water Quality  \\\n",
       "0            15  GROUND WATER QUALITY OF ANDHRA PRADESH   \n",
       "1            16  GROUND WATER QUALITY OF ANDHRA PRADESH   \n",
       "2            26  GROUND WATER QUALITY OF ANDHRA PRADESH   \n",
       "3            27  GROUND WATER QUALITY OF ANDHRA PRADESH   \n",
       "4          1791  GROUND WATER QUALITY OF ANDHRA PRADESH   \n",
       "\n",
       "                                           Locations      State Name  \\\n",
       "0                              WELL AT KUYYURA- A.P.  ANDHRA PRADESH   \n",
       "1                               WELL AT TADAVAI A.P.  ANDHRA PRADESH   \n",
       "2                            WELL AT VIJAYWADA- A.P.  ANDHRA PRADESH   \n",
       "3                           WELL AT PEDDAVOORA- A.P.  ANDHRA PRADESH   \n",
       "4  B/W.- EAST OF SAICHERUVU-PAIDIPALLY (V)-WARANG...  ANDHRA PRADESH   \n",
       "\n",
       "   TEMPERATURE (degree Centigrade)-Minimum  \\\n",
       "0                                     22.0   \n",
       "1                                     22.0   \n",
       "2                                     30.0   \n",
       "3                                     22.0   \n",
       "4                                     20.0   \n",
       "\n",
       "   TEMPERATURE (degree Centigrade)-Maximum  \\\n",
       "0                                     28.0   \n",
       "1                                     26.0   \n",
       "2                                     30.0   \n",
       "3                                     22.0   \n",
       "4                                     25.0   \n",
       "\n",
       "   TEMPERATURE (degree Centigrade)-Mean  \\\n",
       "0                                  25.0   \n",
       "1                                  24.0   \n",
       "2                                  30.0   \n",
       "3                                  22.0   \n",
       "4                                  23.0   \n",
       "\n",
       "   Dissolved Oxygen(D.O.) (mg/l)-Minimum  \\\n",
       "0                                    NaN   \n",
       "1                                    NaN   \n",
       "2                                    NaN   \n",
       "3                                    NaN   \n",
       "4                                    NaN   \n",
       "\n",
       "   Dissolved Oxygen(D.O.) (mg/l)-Maximum  Dissolved Oxygen(D.O.) (mg/l)-Mean  \\\n",
       "0                                    NaN                                 NaN   \n",
       "1                                    NaN                                 NaN   \n",
       "2                                    NaN                                 NaN   \n",
       "3                                    NaN                                 NaN   \n",
       "4                                    NaN                                 NaN   \n",
       "\n",
       "   ...  NITRATE- N (mg/l)-Mean  NITRITE-N (mg/l)-Minimum  \\\n",
       "0  ...                     0.3                       0.1   \n",
       "1  ...                     4.2                       0.1   \n",
       "2  ...                     1.8                       0.1   \n",
       "3  ...                     1.5                       NaN   \n",
       "4  ...                    10.5                       0.1   \n",
       "\n",
       "   NITRITE-N (mg/l)-Maximum  NITRITE-N (mg/l)-Mean  \\\n",
       "0                       0.1                    0.1   \n",
       "1                       0.1                    0.1   \n",
       "2                       0.1                    0.1   \n",
       "3                       NaN                    NaN   \n",
       "4                       0.1                    0.1   \n",
       "\n",
       "   FECAL COLIFORM (MPN/100ml)-Minimum  FECAL COLIFORM (MPN/100ml)-Maximum  \\\n",
       "0                                 1.0                                 2.0   \n",
       "1                                 1.0                                 2.0   \n",
       "2                                 2.0                                 2.0   \n",
       "3                                 2.0                                 2.0   \n",
       "4                                 2.0                                40.0   \n",
       "\n",
       "   FECAL COLIFORM (MPN/100ml)-Mean  TOTAL COLIFORM (MPN/100ml)-Minimum  \\\n",
       "0                              2.0                                16.0   \n",
       "1                              2.0                                 8.0   \n",
       "2                              2.0                              1100.0   \n",
       "3                              2.0                                50.0   \n",
       "4                             21.0                                24.0   \n",
       "\n",
       "   TOTAL COLIFORM (MPN/100ml)-Maximum  TOTAL COLIFORM (MPN/100ml)-Mean  \n",
       "0                               260.0                            138.0  \n",
       "1                                20.0                             14.0  \n",
       "2                              1100.0                           1100.0  \n",
       "3                                50.0                             50.0  \n",
       "4                               800.0                            412.0  \n",
       "\n",
       "[5 rows x 31 columns]"
      ]
     },
     "execution_count": 2,
     "metadata": {},
     "output_type": "execute_result"
    }
   ],
   "source": [
    "df = pd.read_csv(r'C:\\Users\\Pallavi\\Documents\\wtrqlty.csv',encoding='ISO-8859-1')\n",
    "df.head()"
   ]
  },
  {
   "cell_type": "code",
   "execution_count": 3,
   "id": "0a911285-40dc-4334-bac4-0b086ab7ec0a",
   "metadata": {},
   "outputs": [
    {
     "data": {
      "text/plain": [
       "Index(['Station Code', 'Water Quality', 'Locations', 'State Name',\n",
       "       'TEMPERATURE (degree Centigrade)-Minimum',\n",
       "       'TEMPERATURE (degree Centigrade)-Maximum',\n",
       "       'TEMPERATURE (degree Centigrade)-Mean',\n",
       "       'Dissolved Oxygen(D.O.) (mg/l)-Minimum',\n",
       "       'Dissolved Oxygen(D.O.) (mg/l)-Maximum',\n",
       "       'Dissolved Oxygen(D.O.) (mg/l)-Mean', 'pH-Minimum', 'pH-Maximum',\n",
       "       'pH-Mean', 'CONDUCTIVITY (µmhos/cm)-Minimum',\n",
       "       'CONDUCTIVITY (µmhos/cm)-Maximum', 'CONDUCTIVITY (µmhos/cm)-Mean',\n",
       "       'Biochemical oxygen demand (B.O.D.) (mg/l)-Minimum',\n",
       "       'Biochemical oxygen demand (B.O.D.) (mg/l)-Maximum',\n",
       "       'Biochemical oxygen demand (B.O.D.) (mg/l)-Mean',\n",
       "       'NITRATE- N (mg/l)-Minimum', 'NITRATE- N (mg/l)-Maximum',\n",
       "       'NITRATE- N (mg/l)-Mean', 'NITRITE-N (mg/l)-Minimum',\n",
       "       'NITRITE-N (mg/l)-Maximum', 'NITRITE-N (mg/l)-Mean',\n",
       "       'FECAL COLIFORM (MPN/100ml)-Minimum',\n",
       "       'FECAL COLIFORM (MPN/100ml)-Maximum', 'FECAL COLIFORM (MPN/100ml)-Mean',\n",
       "       'TOTAL COLIFORM (MPN/100ml)-Minimum',\n",
       "       'TOTAL COLIFORM (MPN/100ml)-Maximum',\n",
       "       'TOTAL COLIFORM (MPN/100ml)-Mean'],\n",
       "      dtype='object')"
      ]
     },
     "execution_count": 3,
     "metadata": {},
     "output_type": "execute_result"
    }
   ],
   "source": [
    "df.columns"
   ]
  },
  {
   "cell_type": "code",
   "execution_count": 4,
   "id": "942ae7e6-d8de-4ffe-bae2-dc1cfba184c9",
   "metadata": {},
   "outputs": [
    {
     "data": {
      "text/plain": [
       "(346, 31)"
      ]
     },
     "execution_count": 4,
     "metadata": {},
     "output_type": "execute_result"
    }
   ],
   "source": [
    "df.shape"
   ]
  },
  {
   "cell_type": "code",
   "execution_count": 5,
   "id": "0a1fbe19-522a-4c7e-8767-f3344d9e8163",
   "metadata": {},
   "outputs": [
    {
     "data": {
      "text/plain": [
       "Station Code                                           int64\n",
       "Water Quality                                         object\n",
       "Locations                                             object\n",
       "State Name                                            object\n",
       "TEMPERATURE (degree Centigrade)-Minimum              float64\n",
       "TEMPERATURE (degree Centigrade)-Maximum              float64\n",
       "TEMPERATURE (degree Centigrade)-Mean                 float64\n",
       "Dissolved Oxygen(D.O.) (mg/l)-Minimum                float64\n",
       "Dissolved Oxygen(D.O.) (mg/l)-Maximum                float64\n",
       "Dissolved Oxygen(D.O.) (mg/l)-Mean                   float64\n",
       "pH-Minimum                                           float64\n",
       "pH-Maximum                                           float64\n",
       "pH-Mean                                              float64\n",
       "CONDUCTIVITY (µmhos/cm)-Minimum                      float64\n",
       "CONDUCTIVITY (µmhos/cm)-Maximum                      float64\n",
       "CONDUCTIVITY (µmhos/cm)-Mean                         float64\n",
       "Biochemical oxygen demand (B.O.D.) (mg/l)-Minimum    float64\n",
       "Biochemical oxygen demand (B.O.D.) (mg/l)-Maximum    float64\n",
       "Biochemical oxygen demand (B.O.D.) (mg/l)-Mean       float64\n",
       "NITRATE- N (mg/l)-Minimum                            float64\n",
       "NITRATE- N (mg/l)-Maximum                            float64\n",
       "NITRATE- N (mg/l)-Mean                               float64\n",
       "NITRITE-N (mg/l)-Minimum                             float64\n",
       "NITRITE-N (mg/l)-Maximum                             float64\n",
       "NITRITE-N (mg/l)-Mean                                float64\n",
       "FECAL COLIFORM (MPN/100ml)-Minimum                   float64\n",
       "FECAL COLIFORM (MPN/100ml)-Maximum                   float64\n",
       "FECAL COLIFORM (MPN/100ml)-Mean                      float64\n",
       "TOTAL COLIFORM (MPN/100ml)-Minimum                   float64\n",
       "TOTAL COLIFORM (MPN/100ml)-Maximum                   float64\n",
       "TOTAL COLIFORM (MPN/100ml)-Mean                      float64\n",
       "dtype: object"
      ]
     },
     "execution_count": 5,
     "metadata": {},
     "output_type": "execute_result"
    }
   ],
   "source": [
    "df.dtypes"
   ]
  },
  {
   "cell_type": "code",
   "execution_count": 6,
   "id": "bc5385c7-3821-4ddb-847e-800e1db2515e",
   "metadata": {},
   "outputs": [
    {
     "name": "stdout",
     "output_type": "stream",
     "text": [
      "<class 'pandas.core.frame.DataFrame'>\n",
      "RangeIndex: 346 entries, 0 to 345\n",
      "Data columns (total 31 columns):\n",
      " #   Column                                             Non-Null Count  Dtype  \n",
      "---  ------                                             --------------  -----  \n",
      " 0   Station Code                                       346 non-null    int64  \n",
      " 1   Water Quality                                      346 non-null    object \n",
      " 2   Locations                                          346 non-null    object \n",
      " 3   State Name                                         346 non-null    object \n",
      " 4   TEMPERATURE (degree Centigrade)-Minimum            323 non-null    float64\n",
      " 5   TEMPERATURE (degree Centigrade)-Maximum            323 non-null    float64\n",
      " 6   TEMPERATURE (degree Centigrade)-Mean               323 non-null    float64\n",
      " 7   Dissolved Oxygen(D.O.) (mg/l)-Minimum              0 non-null      float64\n",
      " 8   Dissolved Oxygen(D.O.) (mg/l)-Maximum              0 non-null      float64\n",
      " 9   Dissolved Oxygen(D.O.) (mg/l)-Mean                 0 non-null      float64\n",
      " 10  pH-Minimum                                         345 non-null    float64\n",
      " 11  pH-Maximum                                         345 non-null    float64\n",
      " 12  pH-Mean                                            345 non-null    float64\n",
      " 13  CONDUCTIVITY (µmhos/cm)-Minimum                    342 non-null    float64\n",
      " 14  CONDUCTIVITY (µmhos/cm)-Maximum                    342 non-null    float64\n",
      " 15  CONDUCTIVITY (µmhos/cm)-Mean                       342 non-null    float64\n",
      " 16  Biochemical oxygen demand (B.O.D.) (mg/l)-Minimum  251 non-null    float64\n",
      " 17  Biochemical oxygen demand (B.O.D.) (mg/l)-Maximum  251 non-null    float64\n",
      " 18  Biochemical oxygen demand (B.O.D.) (mg/l)-Mean     251 non-null    float64\n",
      " 19  NITRATE- N (mg/l)-Minimum                          283 non-null    float64\n",
      " 20  NITRATE- N (mg/l)-Maximum                          283 non-null    float64\n",
      " 21  NITRATE- N (mg/l)-Mean                             283 non-null    float64\n",
      " 22  NITRITE-N (mg/l)-Minimum                           70 non-null     float64\n",
      " 23  NITRITE-N (mg/l)-Maximum                           70 non-null     float64\n",
      " 24  NITRITE-N (mg/l)-Mean                              70 non-null     float64\n",
      " 25  FECAL COLIFORM (MPN/100ml)-Minimum                 252 non-null    float64\n",
      " 26  FECAL COLIFORM (MPN/100ml)-Maximum                 252 non-null    float64\n",
      " 27  FECAL COLIFORM (MPN/100ml)-Mean                    252 non-null    float64\n",
      " 28  TOTAL COLIFORM (MPN/100ml)-Minimum                 271 non-null    float64\n",
      " 29  TOTAL COLIFORM (MPN/100ml)-Maximum                 271 non-null    float64\n",
      " 30  TOTAL COLIFORM (MPN/100ml)-Mean                    271 non-null    float64\n",
      "dtypes: float64(27), int64(1), object(3)\n",
      "memory usage: 83.9+ KB\n"
     ]
    }
   ],
   "source": [
    "df.info()"
   ]
  },
  {
   "cell_type": "code",
   "execution_count": 7,
   "id": "3aaf2d85-51e7-4d0b-a4b7-14970465fa69",
   "metadata": {},
   "outputs": [
    {
     "data": {
      "text/html": [
       "<div>\n",
       "<style scoped>\n",
       "    .dataframe tbody tr th:only-of-type {\n",
       "        vertical-align: middle;\n",
       "    }\n",
       "\n",
       "    .dataframe tbody tr th {\n",
       "        vertical-align: top;\n",
       "    }\n",
       "\n",
       "    .dataframe thead th {\n",
       "        text-align: right;\n",
       "    }\n",
       "</style>\n",
       "<table border=\"1\" class=\"dataframe\">\n",
       "  <thead>\n",
       "    <tr style=\"text-align: right;\">\n",
       "      <th></th>\n",
       "      <th>Station Code</th>\n",
       "      <th>TEMPERATURE (degree Centigrade)-Minimum</th>\n",
       "      <th>TEMPERATURE (degree Centigrade)-Maximum</th>\n",
       "      <th>TEMPERATURE (degree Centigrade)-Mean</th>\n",
       "      <th>Dissolved Oxygen(D.O.) (mg/l)-Minimum</th>\n",
       "      <th>Dissolved Oxygen(D.O.) (mg/l)-Maximum</th>\n",
       "      <th>Dissolved Oxygen(D.O.) (mg/l)-Mean</th>\n",
       "      <th>pH-Minimum</th>\n",
       "      <th>pH-Maximum</th>\n",
       "      <th>pH-Mean</th>\n",
       "      <th>...</th>\n",
       "      <th>NITRATE- N (mg/l)-Mean</th>\n",
       "      <th>NITRITE-N (mg/l)-Minimum</th>\n",
       "      <th>NITRITE-N (mg/l)-Maximum</th>\n",
       "      <th>NITRITE-N (mg/l)-Mean</th>\n",
       "      <th>FECAL COLIFORM (MPN/100ml)-Minimum</th>\n",
       "      <th>FECAL COLIFORM (MPN/100ml)-Maximum</th>\n",
       "      <th>FECAL COLIFORM (MPN/100ml)-Mean</th>\n",
       "      <th>TOTAL COLIFORM (MPN/100ml)-Minimum</th>\n",
       "      <th>TOTAL COLIFORM (MPN/100ml)-Maximum</th>\n",
       "      <th>TOTAL COLIFORM (MPN/100ml)-Mean</th>\n",
       "    </tr>\n",
       "  </thead>\n",
       "  <tbody>\n",
       "    <tr>\n",
       "      <th>count</th>\n",
       "      <td>346.000000</td>\n",
       "      <td>323.000000</td>\n",
       "      <td>323.000000</td>\n",
       "      <td>323.000000</td>\n",
       "      <td>0.0</td>\n",
       "      <td>0.0</td>\n",
       "      <td>0.0</td>\n",
       "      <td>345.000000</td>\n",
       "      <td>345.000000</td>\n",
       "      <td>345.000000</td>\n",
       "      <td>...</td>\n",
       "      <td>283.000000</td>\n",
       "      <td>70.000000</td>\n",
       "      <td>70.000000</td>\n",
       "      <td>70.000000</td>\n",
       "      <td>252.000000</td>\n",
       "      <td>252.000000</td>\n",
       "      <td>252.000000</td>\n",
       "      <td>271.000000</td>\n",
       "      <td>271.000000</td>\n",
       "      <td>271.000000</td>\n",
       "    </tr>\n",
       "    <tr>\n",
       "      <th>mean</th>\n",
       "      <td>1818.907514</td>\n",
       "      <td>25.510836</td>\n",
       "      <td>27.315789</td>\n",
       "      <td>26.495356</td>\n",
       "      <td>NaN</td>\n",
       "      <td>NaN</td>\n",
       "      <td>NaN</td>\n",
       "      <td>7.190435</td>\n",
       "      <td>7.526841</td>\n",
       "      <td>7.371449</td>\n",
       "      <td>...</td>\n",
       "      <td>3.892155</td>\n",
       "      <td>1.529143</td>\n",
       "      <td>1.722000</td>\n",
       "      <td>1.617143</td>\n",
       "      <td>31.599603</td>\n",
       "      <td>57.043651</td>\n",
       "      <td>43.454563</td>\n",
       "      <td>119.656827</td>\n",
       "      <td>266.095941</td>\n",
       "      <td>188.963100</td>\n",
       "    </tr>\n",
       "    <tr>\n",
       "      <th>std</th>\n",
       "      <td>375.283186</td>\n",
       "      <td>3.822422</td>\n",
       "      <td>3.237872</td>\n",
       "      <td>3.295368</td>\n",
       "      <td>NaN</td>\n",
       "      <td>NaN</td>\n",
       "      <td>NaN</td>\n",
       "      <td>0.732546</td>\n",
       "      <td>0.753528</td>\n",
       "      <td>0.711678</td>\n",
       "      <td>...</td>\n",
       "      <td>7.046430</td>\n",
       "      <td>5.015924</td>\n",
       "      <td>5.012744</td>\n",
       "      <td>5.005947</td>\n",
       "      <td>275.823491</td>\n",
       "      <td>295.030652</td>\n",
       "      <td>279.762382</td>\n",
       "      <td>599.600549</td>\n",
       "      <td>724.225445</td>\n",
       "      <td>628.274192</td>\n",
       "    </tr>\n",
       "    <tr>\n",
       "      <th>min</th>\n",
       "      <td>3.000000</td>\n",
       "      <td>10.000000</td>\n",
       "      <td>11.000000</td>\n",
       "      <td>11.000000</td>\n",
       "      <td>NaN</td>\n",
       "      <td>NaN</td>\n",
       "      <td>NaN</td>\n",
       "      <td>4.100000</td>\n",
       "      <td>4.100000</td>\n",
       "      <td>4.100000</td>\n",
       "      <td>...</td>\n",
       "      <td>0.010000</td>\n",
       "      <td>0.000000</td>\n",
       "      <td>0.000000</td>\n",
       "      <td>0.000000</td>\n",
       "      <td>0.000000</td>\n",
       "      <td>0.000000</td>\n",
       "      <td>0.000000</td>\n",
       "      <td>0.000000</td>\n",
       "      <td>0.000000</td>\n",
       "      <td>0.000000</td>\n",
       "    </tr>\n",
       "    <tr>\n",
       "      <th>25%</th>\n",
       "      <td>1665.250000</td>\n",
       "      <td>24.000000</td>\n",
       "      <td>25.000000</td>\n",
       "      <td>25.000000</td>\n",
       "      <td>NaN</td>\n",
       "      <td>NaN</td>\n",
       "      <td>NaN</td>\n",
       "      <td>6.900000</td>\n",
       "      <td>7.200000</td>\n",
       "      <td>7.100000</td>\n",
       "      <td>...</td>\n",
       "      <td>0.300000</td>\n",
       "      <td>0.100000</td>\n",
       "      <td>0.100000</td>\n",
       "      <td>0.100000</td>\n",
       "      <td>0.000000</td>\n",
       "      <td>1.500000</td>\n",
       "      <td>0.750000</td>\n",
       "      <td>2.000000</td>\n",
       "      <td>4.000000</td>\n",
       "      <td>4.000000</td>\n",
       "    </tr>\n",
       "    <tr>\n",
       "      <th>50%</th>\n",
       "      <td>1842.500000</td>\n",
       "      <td>26.000000</td>\n",
       "      <td>28.000000</td>\n",
       "      <td>27.000000</td>\n",
       "      <td>NaN</td>\n",
       "      <td>NaN</td>\n",
       "      <td>NaN</td>\n",
       "      <td>7.300000</td>\n",
       "      <td>7.600000</td>\n",
       "      <td>7.500000</td>\n",
       "      <td>...</td>\n",
       "      <td>1.700000</td>\n",
       "      <td>0.100000</td>\n",
       "      <td>0.100000</td>\n",
       "      <td>0.100000</td>\n",
       "      <td>2.000000</td>\n",
       "      <td>3.000000</td>\n",
       "      <td>3.000000</td>\n",
       "      <td>5.000000</td>\n",
       "      <td>17.000000</td>\n",
       "      <td>14.000000</td>\n",
       "    </tr>\n",
       "    <tr>\n",
       "      <th>75%</th>\n",
       "      <td>2018.750000</td>\n",
       "      <td>28.000000</td>\n",
       "      <td>29.000000</td>\n",
       "      <td>29.000000</td>\n",
       "      <td>NaN</td>\n",
       "      <td>NaN</td>\n",
       "      <td>NaN</td>\n",
       "      <td>7.700000</td>\n",
       "      <td>8.000000</td>\n",
       "      <td>7.800000</td>\n",
       "      <td>...</td>\n",
       "      <td>5.100000</td>\n",
       "      <td>0.950000</td>\n",
       "      <td>2.150000</td>\n",
       "      <td>1.387500</td>\n",
       "      <td>4.000000</td>\n",
       "      <td>9.000000</td>\n",
       "      <td>9.000000</td>\n",
       "      <td>29.000000</td>\n",
       "      <td>232.500000</td>\n",
       "      <td>170.000000</td>\n",
       "    </tr>\n",
       "    <tr>\n",
       "      <th>max</th>\n",
       "      <td>2327.000000</td>\n",
       "      <td>37.000000</td>\n",
       "      <td>38.000000</td>\n",
       "      <td>37.000000</td>\n",
       "      <td>NaN</td>\n",
       "      <td>NaN</td>\n",
       "      <td>NaN</td>\n",
       "      <td>8.600000</td>\n",
       "      <td>9.100000</td>\n",
       "      <td>8.600000</td>\n",
       "      <td>...</td>\n",
       "      <td>50.000000</td>\n",
       "      <td>40.000000</td>\n",
       "      <td>40.000000</td>\n",
       "      <td>40.000000</td>\n",
       "      <td>4300.000000</td>\n",
       "      <td>4300.000000</td>\n",
       "      <td>4300.000000</td>\n",
       "      <td>9300.000000</td>\n",
       "      <td>9300.000000</td>\n",
       "      <td>9300.000000</td>\n",
       "    </tr>\n",
       "  </tbody>\n",
       "</table>\n",
       "<p>8 rows × 28 columns</p>\n",
       "</div>"
      ],
      "text/plain": [
       "       Station Code  TEMPERATURE (degree Centigrade)-Minimum  \\\n",
       "count    346.000000                               323.000000   \n",
       "mean    1818.907514                                25.510836   \n",
       "std      375.283186                                 3.822422   \n",
       "min        3.000000                                10.000000   \n",
       "25%     1665.250000                                24.000000   \n",
       "50%     1842.500000                                26.000000   \n",
       "75%     2018.750000                                28.000000   \n",
       "max     2327.000000                                37.000000   \n",
       "\n",
       "       TEMPERATURE (degree Centigrade)-Maximum  \\\n",
       "count                               323.000000   \n",
       "mean                                 27.315789   \n",
       "std                                   3.237872   \n",
       "min                                  11.000000   \n",
       "25%                                  25.000000   \n",
       "50%                                  28.000000   \n",
       "75%                                  29.000000   \n",
       "max                                  38.000000   \n",
       "\n",
       "       TEMPERATURE (degree Centigrade)-Mean  \\\n",
       "count                            323.000000   \n",
       "mean                              26.495356   \n",
       "std                                3.295368   \n",
       "min                               11.000000   \n",
       "25%                               25.000000   \n",
       "50%                               27.000000   \n",
       "75%                               29.000000   \n",
       "max                               37.000000   \n",
       "\n",
       "       Dissolved Oxygen(D.O.) (mg/l)-Minimum  \\\n",
       "count                                    0.0   \n",
       "mean                                     NaN   \n",
       "std                                      NaN   \n",
       "min                                      NaN   \n",
       "25%                                      NaN   \n",
       "50%                                      NaN   \n",
       "75%                                      NaN   \n",
       "max                                      NaN   \n",
       "\n",
       "       Dissolved Oxygen(D.O.) (mg/l)-Maximum  \\\n",
       "count                                    0.0   \n",
       "mean                                     NaN   \n",
       "std                                      NaN   \n",
       "min                                      NaN   \n",
       "25%                                      NaN   \n",
       "50%                                      NaN   \n",
       "75%                                      NaN   \n",
       "max                                      NaN   \n",
       "\n",
       "       Dissolved Oxygen(D.O.) (mg/l)-Mean  pH-Minimum  pH-Maximum     pH-Mean  \\\n",
       "count                                 0.0  345.000000  345.000000  345.000000   \n",
       "mean                                  NaN    7.190435    7.526841    7.371449   \n",
       "std                                   NaN    0.732546    0.753528    0.711678   \n",
       "min                                   NaN    4.100000    4.100000    4.100000   \n",
       "25%                                   NaN    6.900000    7.200000    7.100000   \n",
       "50%                                   NaN    7.300000    7.600000    7.500000   \n",
       "75%                                   NaN    7.700000    8.000000    7.800000   \n",
       "max                                   NaN    8.600000    9.100000    8.600000   \n",
       "\n",
       "       ...  NITRATE- N (mg/l)-Mean  NITRITE-N (mg/l)-Minimum  \\\n",
       "count  ...              283.000000                 70.000000   \n",
       "mean   ...                3.892155                  1.529143   \n",
       "std    ...                7.046430                  5.015924   \n",
       "min    ...                0.010000                  0.000000   \n",
       "25%    ...                0.300000                  0.100000   \n",
       "50%    ...                1.700000                  0.100000   \n",
       "75%    ...                5.100000                  0.950000   \n",
       "max    ...               50.000000                 40.000000   \n",
       "\n",
       "       NITRITE-N (mg/l)-Maximum  NITRITE-N (mg/l)-Mean  \\\n",
       "count                 70.000000              70.000000   \n",
       "mean                   1.722000               1.617143   \n",
       "std                    5.012744               5.005947   \n",
       "min                    0.000000               0.000000   \n",
       "25%                    0.100000               0.100000   \n",
       "50%                    0.100000               0.100000   \n",
       "75%                    2.150000               1.387500   \n",
       "max                   40.000000              40.000000   \n",
       "\n",
       "       FECAL COLIFORM (MPN/100ml)-Minimum  FECAL COLIFORM (MPN/100ml)-Maximum  \\\n",
       "count                          252.000000                          252.000000   \n",
       "mean                            31.599603                           57.043651   \n",
       "std                            275.823491                          295.030652   \n",
       "min                              0.000000                            0.000000   \n",
       "25%                              0.000000                            1.500000   \n",
       "50%                              2.000000                            3.000000   \n",
       "75%                              4.000000                            9.000000   \n",
       "max                           4300.000000                         4300.000000   \n",
       "\n",
       "       FECAL COLIFORM (MPN/100ml)-Mean  TOTAL COLIFORM (MPN/100ml)-Minimum  \\\n",
       "count                       252.000000                          271.000000   \n",
       "mean                         43.454563                          119.656827   \n",
       "std                         279.762382                          599.600549   \n",
       "min                           0.000000                            0.000000   \n",
       "25%                           0.750000                            2.000000   \n",
       "50%                           3.000000                            5.000000   \n",
       "75%                           9.000000                           29.000000   \n",
       "max                        4300.000000                         9300.000000   \n",
       "\n",
       "       TOTAL COLIFORM (MPN/100ml)-Maximum  TOTAL COLIFORM (MPN/100ml)-Mean  \n",
       "count                          271.000000                       271.000000  \n",
       "mean                           266.095941                       188.963100  \n",
       "std                            724.225445                       628.274192  \n",
       "min                              0.000000                         0.000000  \n",
       "25%                              4.000000                         4.000000  \n",
       "50%                             17.000000                        14.000000  \n",
       "75%                            232.500000                       170.000000  \n",
       "max                           9300.000000                      9300.000000  \n",
       "\n",
       "[8 rows x 28 columns]"
      ]
     },
     "execution_count": 7,
     "metadata": {},
     "output_type": "execute_result"
    }
   ],
   "source": [
    "df.describe()"
   ]
  },
  {
   "cell_type": "code",
   "execution_count": 8,
   "id": "99a763ab-538c-4849-a37c-0d8eccbc88d0",
   "metadata": {},
   "outputs": [
    {
     "data": {
      "text/plain": [
       "False"
      ]
     },
     "execution_count": 8,
     "metadata": {},
     "output_type": "execute_result"
    }
   ],
   "source": [
    "df.duplicated().any()"
   ]
  },
  {
   "cell_type": "code",
   "execution_count": 9,
   "id": "7b951a92-c724-4411-9f7e-27018f7f8316",
   "metadata": {},
   "outputs": [
    {
     "data": {
      "text/plain": [
       "Station Code                                           0\n",
       "Water Quality                                          0\n",
       "Locations                                              0\n",
       "State Name                                             0\n",
       "TEMPERATURE (degree Centigrade)-Minimum               23\n",
       "TEMPERATURE (degree Centigrade)-Maximum               23\n",
       "TEMPERATURE (degree Centigrade)-Mean                  23\n",
       "Dissolved Oxygen(D.O.) (mg/l)-Minimum                346\n",
       "Dissolved Oxygen(D.O.) (mg/l)-Maximum                346\n",
       "Dissolved Oxygen(D.O.) (mg/l)-Mean                   346\n",
       "pH-Minimum                                             1\n",
       "pH-Maximum                                             1\n",
       "pH-Mean                                                1\n",
       "CONDUCTIVITY (µmhos/cm)-Minimum                        4\n",
       "CONDUCTIVITY (µmhos/cm)-Maximum                        4\n",
       "CONDUCTIVITY (µmhos/cm)-Mean                           4\n",
       "Biochemical oxygen demand (B.O.D.) (mg/l)-Minimum     95\n",
       "Biochemical oxygen demand (B.O.D.) (mg/l)-Maximum     95\n",
       "Biochemical oxygen demand (B.O.D.) (mg/l)-Mean        95\n",
       "NITRATE- N (mg/l)-Minimum                             63\n",
       "NITRATE- N (mg/l)-Maximum                             63\n",
       "NITRATE- N (mg/l)-Mean                                63\n",
       "NITRITE-N (mg/l)-Minimum                             276\n",
       "NITRITE-N (mg/l)-Maximum                             276\n",
       "NITRITE-N (mg/l)-Mean                                276\n",
       "FECAL COLIFORM (MPN/100ml)-Minimum                    94\n",
       "FECAL COLIFORM (MPN/100ml)-Maximum                    94\n",
       "FECAL COLIFORM (MPN/100ml)-Mean                       94\n",
       "TOTAL COLIFORM (MPN/100ml)-Minimum                    75\n",
       "TOTAL COLIFORM (MPN/100ml)-Maximum                    75\n",
       "TOTAL COLIFORM (MPN/100ml)-Mean                       75\n",
       "dtype: int64"
      ]
     },
     "execution_count": 9,
     "metadata": {},
     "output_type": "execute_result"
    }
   ],
   "source": [
    "df.isna().sum()"
   ]
  },
  {
   "cell_type": "code",
   "execution_count": 10,
   "id": "38d4289f-18cb-4df3-8ce4-e7f4310da4d3",
   "metadata": {},
   "outputs": [
    {
     "data": {
      "text/html": [
       "<div>\n",
       "<style scoped>\n",
       "    .dataframe tbody tr th:only-of-type {\n",
       "        vertical-align: middle;\n",
       "    }\n",
       "\n",
       "    .dataframe tbody tr th {\n",
       "        vertical-align: top;\n",
       "    }\n",
       "\n",
       "    .dataframe thead th {\n",
       "        text-align: right;\n",
       "    }\n",
       "</style>\n",
       "<table border=\"1\" class=\"dataframe\">\n",
       "  <thead>\n",
       "    <tr style=\"text-align: right;\">\n",
       "      <th></th>\n",
       "      <th>Column</th>\n",
       "      <th>Null_count</th>\n",
       "      <th>%miss_value</th>\n",
       "    </tr>\n",
       "  </thead>\n",
       "  <tbody>\n",
       "    <tr>\n",
       "      <th>0</th>\n",
       "      <td>Station Code</td>\n",
       "      <td>0</td>\n",
       "      <td>0.0</td>\n",
       "    </tr>\n",
       "    <tr>\n",
       "      <th>1</th>\n",
       "      <td>Water Quality</td>\n",
       "      <td>0</td>\n",
       "      <td>0.0</td>\n",
       "    </tr>\n",
       "    <tr>\n",
       "      <th>2</th>\n",
       "      <td>Locations</td>\n",
       "      <td>0</td>\n",
       "      <td>0.0</td>\n",
       "    </tr>\n",
       "    <tr>\n",
       "      <th>3</th>\n",
       "      <td>State Name</td>\n",
       "      <td>0</td>\n",
       "      <td>0.0</td>\n",
       "    </tr>\n",
       "    <tr>\n",
       "      <th>4</th>\n",
       "      <td>TEMPERATURE (degree Centigrade)-Minimum</td>\n",
       "      <td>23</td>\n",
       "      <td>7.0</td>\n",
       "    </tr>\n",
       "    <tr>\n",
       "      <th>5</th>\n",
       "      <td>TEMPERATURE (degree Centigrade)-Maximum</td>\n",
       "      <td>23</td>\n",
       "      <td>7.0</td>\n",
       "    </tr>\n",
       "    <tr>\n",
       "      <th>6</th>\n",
       "      <td>TEMPERATURE (degree Centigrade)-Mean</td>\n",
       "      <td>23</td>\n",
       "      <td>7.0</td>\n",
       "    </tr>\n",
       "    <tr>\n",
       "      <th>7</th>\n",
       "      <td>Dissolved Oxygen(D.O.) (mg/l)-Minimum</td>\n",
       "      <td>346</td>\n",
       "      <td>100.0</td>\n",
       "    </tr>\n",
       "    <tr>\n",
       "      <th>8</th>\n",
       "      <td>Dissolved Oxygen(D.O.) (mg/l)-Maximum</td>\n",
       "      <td>346</td>\n",
       "      <td>100.0</td>\n",
       "    </tr>\n",
       "    <tr>\n",
       "      <th>9</th>\n",
       "      <td>Dissolved Oxygen(D.O.) (mg/l)-Mean</td>\n",
       "      <td>346</td>\n",
       "      <td>100.0</td>\n",
       "    </tr>\n",
       "    <tr>\n",
       "      <th>10</th>\n",
       "      <td>pH-Minimum</td>\n",
       "      <td>1</td>\n",
       "      <td>0.0</td>\n",
       "    </tr>\n",
       "    <tr>\n",
       "      <th>11</th>\n",
       "      <td>pH-Maximum</td>\n",
       "      <td>1</td>\n",
       "      <td>0.0</td>\n",
       "    </tr>\n",
       "    <tr>\n",
       "      <th>12</th>\n",
       "      <td>pH-Mean</td>\n",
       "      <td>1</td>\n",
       "      <td>0.0</td>\n",
       "    </tr>\n",
       "    <tr>\n",
       "      <th>13</th>\n",
       "      <td>CONDUCTIVITY (µmhos/cm)-Minimum</td>\n",
       "      <td>4</td>\n",
       "      <td>1.0</td>\n",
       "    </tr>\n",
       "    <tr>\n",
       "      <th>14</th>\n",
       "      <td>CONDUCTIVITY (µmhos/cm)-Maximum</td>\n",
       "      <td>4</td>\n",
       "      <td>1.0</td>\n",
       "    </tr>\n",
       "    <tr>\n",
       "      <th>15</th>\n",
       "      <td>CONDUCTIVITY (µmhos/cm)-Mean</td>\n",
       "      <td>4</td>\n",
       "      <td>1.0</td>\n",
       "    </tr>\n",
       "    <tr>\n",
       "      <th>16</th>\n",
       "      <td>Biochemical oxygen demand (B.O.D.) (mg/l)-Minimum</td>\n",
       "      <td>95</td>\n",
       "      <td>27.0</td>\n",
       "    </tr>\n",
       "    <tr>\n",
       "      <th>17</th>\n",
       "      <td>Biochemical oxygen demand (B.O.D.) (mg/l)-Maximum</td>\n",
       "      <td>95</td>\n",
       "      <td>27.0</td>\n",
       "    </tr>\n",
       "    <tr>\n",
       "      <th>18</th>\n",
       "      <td>Biochemical oxygen demand (B.O.D.) (mg/l)-Mean</td>\n",
       "      <td>95</td>\n",
       "      <td>27.0</td>\n",
       "    </tr>\n",
       "    <tr>\n",
       "      <th>19</th>\n",
       "      <td>NITRATE- N (mg/l)-Minimum</td>\n",
       "      <td>63</td>\n",
       "      <td>18.0</td>\n",
       "    </tr>\n",
       "    <tr>\n",
       "      <th>20</th>\n",
       "      <td>NITRATE- N (mg/l)-Maximum</td>\n",
       "      <td>63</td>\n",
       "      <td>18.0</td>\n",
       "    </tr>\n",
       "    <tr>\n",
       "      <th>21</th>\n",
       "      <td>NITRATE- N (mg/l)-Mean</td>\n",
       "      <td>63</td>\n",
       "      <td>18.0</td>\n",
       "    </tr>\n",
       "    <tr>\n",
       "      <th>22</th>\n",
       "      <td>NITRITE-N (mg/l)-Minimum</td>\n",
       "      <td>276</td>\n",
       "      <td>80.0</td>\n",
       "    </tr>\n",
       "    <tr>\n",
       "      <th>23</th>\n",
       "      <td>NITRITE-N (mg/l)-Maximum</td>\n",
       "      <td>276</td>\n",
       "      <td>80.0</td>\n",
       "    </tr>\n",
       "    <tr>\n",
       "      <th>24</th>\n",
       "      <td>NITRITE-N (mg/l)-Mean</td>\n",
       "      <td>276</td>\n",
       "      <td>80.0</td>\n",
       "    </tr>\n",
       "    <tr>\n",
       "      <th>25</th>\n",
       "      <td>FECAL COLIFORM (MPN/100ml)-Minimum</td>\n",
       "      <td>94</td>\n",
       "      <td>27.0</td>\n",
       "    </tr>\n",
       "    <tr>\n",
       "      <th>26</th>\n",
       "      <td>FECAL COLIFORM (MPN/100ml)-Maximum</td>\n",
       "      <td>94</td>\n",
       "      <td>27.0</td>\n",
       "    </tr>\n",
       "    <tr>\n",
       "      <th>27</th>\n",
       "      <td>FECAL COLIFORM (MPN/100ml)-Mean</td>\n",
       "      <td>94</td>\n",
       "      <td>27.0</td>\n",
       "    </tr>\n",
       "    <tr>\n",
       "      <th>28</th>\n",
       "      <td>TOTAL COLIFORM (MPN/100ml)-Minimum</td>\n",
       "      <td>75</td>\n",
       "      <td>22.0</td>\n",
       "    </tr>\n",
       "    <tr>\n",
       "      <th>29</th>\n",
       "      <td>TOTAL COLIFORM (MPN/100ml)-Maximum</td>\n",
       "      <td>75</td>\n",
       "      <td>22.0</td>\n",
       "    </tr>\n",
       "    <tr>\n",
       "      <th>30</th>\n",
       "      <td>TOTAL COLIFORM (MPN/100ml)-Mean</td>\n",
       "      <td>75</td>\n",
       "      <td>22.0</td>\n",
       "    </tr>\n",
       "  </tbody>\n",
       "</table>\n",
       "</div>"
      ],
      "text/plain": [
       "                                               Column  Null_count  %miss_value\n",
       "0                                        Station Code           0          0.0\n",
       "1                                       Water Quality           0          0.0\n",
       "2                                           Locations           0          0.0\n",
       "3                                          State Name           0          0.0\n",
       "4             TEMPERATURE (degree Centigrade)-Minimum          23          7.0\n",
       "5             TEMPERATURE (degree Centigrade)-Maximum          23          7.0\n",
       "6                TEMPERATURE (degree Centigrade)-Mean          23          7.0\n",
       "7               Dissolved Oxygen(D.O.) (mg/l)-Minimum         346        100.0\n",
       "8               Dissolved Oxygen(D.O.) (mg/l)-Maximum         346        100.0\n",
       "9                  Dissolved Oxygen(D.O.) (mg/l)-Mean         346        100.0\n",
       "10                                         pH-Minimum           1          0.0\n",
       "11                                         pH-Maximum           1          0.0\n",
       "12                                            pH-Mean           1          0.0\n",
       "13                    CONDUCTIVITY (µmhos/cm)-Minimum           4          1.0\n",
       "14                    CONDUCTIVITY (µmhos/cm)-Maximum           4          1.0\n",
       "15                       CONDUCTIVITY (µmhos/cm)-Mean           4          1.0\n",
       "16  Biochemical oxygen demand (B.O.D.) (mg/l)-Minimum          95         27.0\n",
       "17  Biochemical oxygen demand (B.O.D.) (mg/l)-Maximum          95         27.0\n",
       "18     Biochemical oxygen demand (B.O.D.) (mg/l)-Mean          95         27.0\n",
       "19                          NITRATE- N (mg/l)-Minimum          63         18.0\n",
       "20                          NITRATE- N (mg/l)-Maximum          63         18.0\n",
       "21                             NITRATE- N (mg/l)-Mean          63         18.0\n",
       "22                           NITRITE-N (mg/l)-Minimum         276         80.0\n",
       "23                           NITRITE-N (mg/l)-Maximum         276         80.0\n",
       "24                              NITRITE-N (mg/l)-Mean         276         80.0\n",
       "25                 FECAL COLIFORM (MPN/100ml)-Minimum          94         27.0\n",
       "26                 FECAL COLIFORM (MPN/100ml)-Maximum          94         27.0\n",
       "27                    FECAL COLIFORM (MPN/100ml)-Mean          94         27.0\n",
       "28                 TOTAL COLIFORM (MPN/100ml)-Minimum          75         22.0\n",
       "29                 TOTAL COLIFORM (MPN/100ml)-Maximum          75         22.0\n",
       "30                    TOTAL COLIFORM (MPN/100ml)-Mean          75         22.0"
      ]
     },
     "execution_count": 10,
     "metadata": {},
     "output_type": "execute_result"
    }
   ],
   "source": [
    "null_df = df.isna().sum().reset_index()\n",
    "null_df.columns = ['Column','Null_count']\n",
    "null_df['%miss_value'] = round(null_df['Null_count']/len(df),2)*100\n",
    "null_df"
   ]
  },
  {
   "cell_type": "code",
   "execution_count": 11,
   "id": "0f4590f5-b0a8-4b83-9e62-4d6f297d309f",
   "metadata": {},
   "outputs": [],
   "source": [
    "df = df.drop(['Water Quality', 'Locations', 'State Name','Station Code', \n",
    "              'TEMPERATURE (degree Centigrade)-Minimum',\n",
    "              'TEMPERATURE (degree Centigrade)-Maximum',\n",
    "              'TEMPERATURE (degree Centigrade)-Mean',\n",
    "              'Dissolved Oxygen(D.O.) (mg/l)-Minimum',\n",
    "              'Dissolved Oxygen(D.O.) (mg/l)-Maximum',\n",
    "              'Dissolved Oxygen(D.O.) (mg/l)-Mean',\n",
    "              'pH-Minimum', 'pH-Maximum',\n",
    "              'CONDUCTIVITY (µmhos/cm)-Minimum',\n",
    "              'CONDUCTIVITY (µmhos/cm)-Maximum',\n",
    "              'Biochemical oxygen demand (B.O.D.) (mg/l)-Minimum',\n",
    "              'Biochemical oxygen demand (B.O.D.) (mg/l)-Maximum',\n",
    "              'NITRATE- N (mg/l)-Minimum', 'NITRATE- N (mg/l)-Maximum',\n",
    "              'NITRITE-N (mg/l)-Minimum', 'NITRITE-N (mg/l)-Maximum',\n",
    "              'NITRITE-N (mg/l)-Mean', 'FECAL COLIFORM (MPN/100ml)-Minimum',\n",
    "              'FECAL COLIFORM (MPN/100ml)-Maximum', \n",
    "              'FECAL COLIFORM (MPN/100ml)-Mean', \n",
    "              'TOTAL COLIFORM (MPN/100ml)-Minimum',\n",
    "              'TOTAL COLIFORM (MPN/100ml)-Maximum',\n",
    "              'TOTAL COLIFORM (MPN/100ml)-Mean'], \n",
    "              axis=1, errors='ignore')\n"
   ]
  },
  {
   "cell_type": "code",
   "execution_count": 12,
   "id": "da5b2a8d-20ef-421b-a133-9bfa0f10cb65",
   "metadata": {},
   "outputs": [
    {
     "data": {
      "image/png": "[encoded data removed]",
      "text/plain": [
       "<Figure size 640x480 with 1 Axes>"
      ]
     },
     "metadata": {},
     "output_type": "display_data"
    }
   ],
   "source": [
    "sns.heatmap(df.isna(),yticklabels = False,cbar = False,cmap = 'viridis')\n",
    "plt.show()"
   ]
  },
  {
   "cell_type": "markdown",
   "id": "f9a61ff3-6190-44da-b01d-baf39bae1647",
   "metadata": {},
   "source": [
    "Handling the missing values"
   ]
  },
  {
   "cell_type": "code",
   "execution_count": 13,
   "id": "2e6587b5-404c-4f29-83bd-603d3717c7a3",
   "metadata": {},
   "outputs": [
    {
     "data": {
      "text/plain": [
       "<Axes: ylabel='Frequency'>"
      ]
     },
     "execution_count": 13,
     "metadata": {},
     "output_type": "execute_result"
    },
    {
     "data": {
      "image/png": "[encoded data removed]",
      "text/plain": [
       "<Figure size 640x480 with 1 Axes>"
      ]
     },
     "metadata": {},
     "output_type": "display_data"
    }
   ],
   "source": [
    "df['pH-Mean'].plot(kind = 'hist')"
   ]
  },
  {
   "cell_type": "code",
   "execution_count": 14,
   "id": "ce4acf93-ea28-4a55-9119-98f3aeba8072",
   "metadata": {},
   "outputs": [
    {
     "data": {
      "text/plain": [
       "<Axes: ylabel='Frequency'>"
      ]
     },
     "execution_count": 14,
     "metadata": {},
     "output_type": "execute_result"
    },
    {
     "data": {
      "image/png": "[encoded data removed]",
      "text/plain": [
       "<Figure size 640x480 with 1 Axes>"
      ]
     },
     "metadata": {},
     "output_type": "display_data"
    }
   ],
   "source": [
    "df['CONDUCTIVITY (µmhos/cm)-Mean'].plot(kind = 'hist')"
   ]
  },
  {
   "cell_type": "code",
   "execution_count": 15,
   "id": "8b996620-22a3-4c0f-ba3a-0319fdab25db",
   "metadata": {},
   "outputs": [
    {
     "data": {
      "text/plain": [
       "<Axes: ylabel='Frequency'>"
      ]
     },
     "execution_count": 15,
     "metadata": {},
     "output_type": "execute_result"
    },
    {
     "data": {
      "image/png": "[encoded data removed]",
      "text/plain": [
       "<Figure size 640x480 with 1 Axes>"
      ]
     },
     "metadata": {},
     "output_type": "display_data"
    }
   ],
   "source": [
    "df['NITRATE- N (mg/l)-Mean'].plot(kind = 'hist')"
   ]
  },
  {
   "cell_type": "code",
   "execution_count": 16,
   "id": "bf411c7d-dbe6-4ad0-bf38-03e220d38b86",
   "metadata": {},
   "outputs": [
    {
     "data": {
      "image/png": "[encoded data removed]",
      "text/plain": [
       "<Figure size 640x480 with 1 Axes>"
      ]
     },
     "metadata": {},
     "output_type": "display_data"
    }
   ],
   "source": [
    "fig = plt.figure()\n",
    "ax = fig.add_subplot(111)\n",
    "df['NITRATE- N (mg/l)-Mean'].plot(kind = 'kde', ax = ax)\n",
    "plt.show()"
   ]
  },
  {
   "cell_type": "code",
   "execution_count": 17,
   "id": "391a6122-0153-468f-94db-55fc5f792ab9",
   "metadata": {},
   "outputs": [],
   "source": [
    "df['pH-Mean'] = df['pH-Mean'].fillna(df['pH-Mean'].mean())\n",
    "df['CONDUCTIVITY (µmhos/cm)-Mean'] = df['CONDUCTIVITY (µmhos/cm)-Mean'].fillna(df['CONDUCTIVITY (µmhos/cm)-Mean'].mean())\n",
    "df['NITRATE- N (mg/l)-Mean'] = df['NITRATE- N (mg/l)-Mean'].fillna(df['NITRATE- N (mg/l)-Mean'].mean())\n",
    "df['Biochemical oxygen demand (B.O.D.) (mg/l)-Mean'] = df['Biochemical oxygen demand (B.O.D.) (mg/l)-Mean'].fillna(df['Biochemical oxygen demand (B.O.D.) (mg/l)-Mean'].mean())"
   ]
  },
  {
   "cell_type": "code",
   "execution_count": 18,
   "id": "ed5b7e7b-46db-4ba7-8d95-690b24af2362",
   "metadata": {},
   "outputs": [
    {
     "data": {
      "text/plain": [
       "pH-Mean                                           0\n",
       "CONDUCTIVITY (µmhos/cm)-Mean                      0\n",
       "Biochemical oxygen demand (B.O.D.) (mg/l)-Mean    0\n",
       "NITRATE- N (mg/l)-Mean                            0\n",
       "dtype: int64"
      ]
     },
     "execution_count": 18,
     "metadata": {},
     "output_type": "execute_result"
    }
   ],
   "source": [
    "df.isna().sum()"
   ]
  },
  {
   "cell_type": "code",
   "execution_count": 89,
   "id": "b8a22d69-33fa-4cad-b3f9-83de0af5f65f",
   "metadata": {},
   "outputs": [],
   "source": [
    "\n",
    "safe_ph_min = 6.5\n",
    "safe_ph_max = 8.5\n",
    "safe_conductivity_min = 50\n",
    "safe_conductivity_max = 1500\n",
    "safe_nitrate_max = 50\n",
    "safe_bod_max = 3\n",
    "\n",
    "df['potability'] = (\n",
    "    (df['pH-Mean'] >= safe_ph_min) & (df['pH-Mean'] <= safe_ph_max) &\n",
    "    (df['CONDUCTIVITY (µmhos/cm)-Mean'] >= safe_conductivity_min) & (df['CONDUCTIVITY (µmhos/cm)-Mean'] <= safe_conductivity_max) &\n",
    "    (df['Biochemical oxygen demand (B.O.D.) (mg/l)-Mean'] < safe_bod_max) &\n",
    "    (df['NITRATE- N (mg/l)-Mean'] < safe_nitrate_max)).astype(int)"
   ]
  },
  {
   "cell_type": "code",
   "execution_count": 90,
   "id": "ac494304-47f1-41f0-ae55-546405c03a8f",
   "metadata": {},
   "outputs": [
    {
     "data": {
      "text/html": [
       "<div>\n",
       "<style scoped>\n",
       "    .dataframe tbody tr th:only-of-type {\n",
       "        vertical-align: middle;\n",
       "    }\n",
       "\n",
       "    .dataframe tbody tr th {\n",
       "        vertical-align: top;\n",
       "    }\n",
       "\n",
       "    .dataframe thead th {\n",
       "        text-align: right;\n",
       "    }\n",
       "</style>\n",
       "<table border=\"1\" class=\"dataframe\">\n",
       "  <thead>\n",
       "    <tr style=\"text-align: right;\">\n",
       "      <th></th>\n",
       "      <th>pH-Mean</th>\n",
       "      <th>CONDUCTIVITY (µmhos/cm)-Mean</th>\n",
       "      <th>Biochemical oxygen demand (B.O.D.) (mg/l)-Mean</th>\n",
       "      <th>NITRATE- N (mg/l)-Mean</th>\n",
       "      <th>potability</th>\n",
       "    </tr>\n",
       "  </thead>\n",
       "  <tbody>\n",
       "    <tr>\n",
       "      <th>0</th>\n",
       "      <td>7.1</td>\n",
       "      <td>178.0</td>\n",
       "      <td>0.500000</td>\n",
       "      <td>0.3</td>\n",
       "      <td>1</td>\n",
       "    </tr>\n",
       "    <tr>\n",
       "      <th>1</th>\n",
       "      <td>7.0</td>\n",
       "      <td>897.0</td>\n",
       "      <td>0.800000</td>\n",
       "      <td>4.2</td>\n",
       "      <td>1</td>\n",
       "    </tr>\n",
       "    <tr>\n",
       "      <th>2</th>\n",
       "      <td>7.4</td>\n",
       "      <td>1101.0</td>\n",
       "      <td>0.800000</td>\n",
       "      <td>1.8</td>\n",
       "      <td>1</td>\n",
       "    </tr>\n",
       "    <tr>\n",
       "      <th>3</th>\n",
       "      <td>8.0</td>\n",
       "      <td>656.0</td>\n",
       "      <td>2.137251</td>\n",
       "      <td>1.5</td>\n",
       "      <td>1</td>\n",
       "    </tr>\n",
       "    <tr>\n",
       "      <th>4</th>\n",
       "      <td>7.1</td>\n",
       "      <td>1182.0</td>\n",
       "      <td>0.300000</td>\n",
       "      <td>10.5</td>\n",
       "      <td>1</td>\n",
       "    </tr>\n",
       "  </tbody>\n",
       "</table>\n",
       "</div>"
      ],
      "text/plain": [
       "   pH-Mean  CONDUCTIVITY (µmhos/cm)-Mean  \\\n",
       "0      7.1                         178.0   \n",
       "1      7.0                         897.0   \n",
       "2      7.4                        1101.0   \n",
       "3      8.0                         656.0   \n",
       "4      7.1                        1182.0   \n",
       "\n",
       "   Biochemical oxygen demand (B.O.D.) (mg/l)-Mean  NITRATE- N (mg/l)-Mean  \\\n",
       "0                                        0.500000                     0.3   \n",
       "1                                        0.800000                     4.2   \n",
       "2                                        0.800000                     1.8   \n",
       "3                                        2.137251                     1.5   \n",
       "4                                        0.300000                    10.5   \n",
       "\n",
       "   potability  \n",
       "0           1  \n",
       "1           1  \n",
       "2           1  \n",
       "3           1  \n",
       "4           1  "
      ]
     },
     "execution_count": 90,
     "metadata": {},
     "output_type": "execute_result"
    }
   ],
   "source": [
    "df.head()"
   ]
  },
  {
   "cell_type": "code",
   "execution_count": 25,
   "id": "1c772665-d695-4bf6-a52d-22c59f4a38e8",
   "metadata": {},
   "outputs": [
    {
     "data": {
      "image/png": "[encoded data removed]",
      "text/plain": [
       "<Figure size 2000x2000 with 6 Axes>"
      ]
     },
     "metadata": {},
     "output_type": "display_data"
    }
   ],
   "source": [
    "df_hist_plot = df.hist(figsize = (20,20), color = \"#5F9EA0\")"
   ]
  },
  {
   "cell_type": "code",
   "execution_count": 26,
   "id": "b1cc5219-a94a-4bb2-bbab-ef1ad0e51594",
   "metadata": {},
   "outputs": [
    {
     "data": {
      "image/png": "[encoded data removed]",
      "text/plain": [
       "<Figure size 640x480 with 1 Axes>"
      ]
     },
     "metadata": {},
     "output_type": "display_data"
    },
    {
     "data": {
      "image/png": "[encoded data removed]",
      "text/plain": [
       "<Figure size 640x480 with 1 Axes>"
      ]
     },
     "metadata": {},
     "output_type": "display_data"
    },
    {
     "data": {
      "image/png": "[encoded data removed]",
      "text/plain": [
       "<Figure size 640x480 with 1 Axes>"
      ]
     },
     "metadata": {},
     "output_type": "display_data"
    },
    {
     "data": {
      "image/png": "[encoded data removed]",
      "text/plain": [
       "<Figure size 640x480 with 1 Axes>"
      ]
     },
     "metadata": {},
     "output_type": "display_data"
    },
    {
     "data": {
      "image/png": "[encoded data removed]",
      "text/plain": [
       "<Figure size 640x480 with 1 Axes>"
      ]
     },
     "metadata": {},
     "output_type": "display_data"
    }
   ],
   "source": [
    "for col in df.columns:\n",
    "    sns.histplot(data = df, x = col, kde = True, hue = 'potability')\n",
    "    plt.show()"
   ]
  },
  {
   "cell_type": "code",
   "execution_count": 27,
   "id": "8663862a-92ea-4787-9387-75bb373894a4",
   "metadata": {},
   "outputs": [
    {
     "data": {
      "text/html": [
       "<div>\n",
       "<style scoped>\n",
       "    .dataframe tbody tr th:only-of-type {\n",
       "        vertical-align: middle;\n",
       "    }\n",
       "\n",
       "    .dataframe tbody tr th {\n",
       "        vertical-align: top;\n",
       "    }\n",
       "\n",
       "    .dataframe thead th {\n",
       "        text-align: right;\n",
       "    }\n",
       "</style>\n",
       "<table border=\"1\" class=\"dataframe\">\n",
       "  <thead>\n",
       "    <tr style=\"text-align: right;\">\n",
       "      <th>potability</th>\n",
       "      <th>0</th>\n",
       "      <th>1</th>\n",
       "    </tr>\n",
       "  </thead>\n",
       "  <tbody>\n",
       "    <tr>\n",
       "      <th>pH-Mean</th>\n",
       "      <td>7.230208</td>\n",
       "      <td>7.472136</td>\n",
       "    </tr>\n",
       "    <tr>\n",
       "      <th>CONDUCTIVITY (µmhos/cm)-Mean</th>\n",
       "      <td>2328.104167</td>\n",
       "      <td>697.157084</td>\n",
       "    </tr>\n",
       "    <tr>\n",
       "      <th>Biochemical oxygen demand (B.O.D.) (mg/l)-Mean</th>\n",
       "      <td>3.091986</td>\n",
       "      <td>1.456648</td>\n",
       "    </tr>\n",
       "    <tr>\n",
       "      <th>NITRATE- N (mg/l)-Mean</th>\n",
       "      <td>4.492586</td>\n",
       "      <td>3.464126</td>\n",
       "    </tr>\n",
       "  </tbody>\n",
       "</table>\n",
       "</div>"
      ],
      "text/plain": [
       "potability                                                0           1\n",
       "pH-Mean                                            7.230208    7.472136\n",
       "CONDUCTIVITY (µmhos/cm)-Mean                    2328.104167  697.157084\n",
       "Biochemical oxygen demand (B.O.D.) (mg/l)-Mean     3.091986    1.456648\n",
       "NITRATE- N (mg/l)-Mean                             4.492586    3.464126"
      ]
     },
     "execution_count": 27,
     "metadata": {},
     "output_type": "execute_result"
    }
   ],
   "source": [
    "df.groupby('potability').mean().T"
   ]
  },
  {
   "cell_type": "code",
   "execution_count": 28,
   "id": "d22e24d1-6e1c-4e36-b52d-08b4bd8f4fc5",
   "metadata": {},
   "outputs": [
    {
     "data": {
      "image/png": "[encoded data removed]",
      "text/plain": [
       "<Figure size 640x480 with 1 Axes>"
      ]
     },
     "metadata": {},
     "output_type": "display_data"
    },
    {
     "data": {
      "image/png": "[encoded data removed]",
      "text/plain": [
       "<Figure size 640x480 with 1 Axes>"
      ]
     },
     "metadata": {},
     "output_type": "display_data"
    },
    {
     "data": {
      "image/png": "[encoded data removed]",
      "text/plain": [
       "<Figure size 640x480 with 1 Axes>"
      ]
     },
     "metadata": {},
     "output_type": "display_data"
    },
    {
     "data": {
      "image/png": "[encoded data removed]",
      "text/plain": [
       "<Figure size 640x480 with 1 Axes>"
      ]
     },
     "metadata": {},
     "output_type": "display_data"
    },
    {
     "data": {
      "image/png": "[encoded data removed]",
      "text/plain": [
       "<Figure size 640x480 with 1 Axes>"
      ]
     },
     "metadata": {},
     "output_type": "display_data"
    }
   ],
   "source": [
    "for col in df.columns:\n",
    "    sns.boxplot(data = df, x = col)\n",
    "    plt.show()"
   ]
  },
  {
   "cell_type": "code",
   "execution_count": 29,
   "id": "17bc5b92-9641-4777-9ca1-00d63d811513",
   "metadata": {},
   "outputs": [
    {
     "data": {
      "text/plain": [
       "<Axes: xlabel='potability'>"
      ]
     },
     "execution_count": 29,
     "metadata": {},
     "output_type": "execute_result"
    },
    {
     "data": {
      "image/png": "[encoded data removed]",
      "text/plain": [
       "<Figure size 640x480 with 1 Axes>"
      ]
     },
     "metadata": {},
     "output_type": "display_data"
    }
   ],
   "source": [
    "df['potability'].value_counts().plot(kind = 'bar')"
   ]
  },
  {
   "cell_type": "markdown",
   "id": "4ce368d4-228d-490c-b804-66d2e4457a72",
   "metadata": {},
   "source": [
    "Data Preprocessing"
   ]
  },
  {
   "cell_type": "code",
   "execution_count": 30,
   "id": "ac7f3f7f-00e3-4b4e-b52b-ad5a2b747ead",
   "metadata": {},
   "outputs": [],
   "source": [
    "x = df.drop('potability', axis = 1)   #independent variable\n",
    "y = df['potability']  #dependent variable"
   ]
  },
  {
   "cell_type": "code",
   "execution_count": 31,
   "id": "7e619b7e-2243-426a-af70-5b51cf25c9bf",
   "metadata": {},
   "outputs": [
    {
     "data": {
      "text/html": [
       "<div>\n",
       "<style scoped>\n",
       "    .dataframe tbody tr th:only-of-type {\n",
       "        vertical-align: middle;\n",
       "    }\n",
       "\n",
       "    .dataframe tbody tr th {\n",
       "        vertical-align: top;\n",
       "    }\n",
       "\n",
       "    .dataframe thead th {\n",
       "        text-align: right;\n",
       "    }\n",
       "</style>\n",
       "<table border=\"1\" class=\"dataframe\">\n",
       "  <thead>\n",
       "    <tr style=\"text-align: right;\">\n",
       "      <th></th>\n",
       "      <th>pH-Mean</th>\n",
       "      <th>CONDUCTIVITY (µmhos/cm)-Mean</th>\n",
       "      <th>Biochemical oxygen demand (B.O.D.) (mg/l)-Mean</th>\n",
       "      <th>NITRATE- N (mg/l)-Mean</th>\n",
       "    </tr>\n",
       "  </thead>\n",
       "  <tbody>\n",
       "    <tr>\n",
       "      <th>0</th>\n",
       "      <td>7.1</td>\n",
       "      <td>178.0</td>\n",
       "      <td>0.500000</td>\n",
       "      <td>0.3</td>\n",
       "    </tr>\n",
       "    <tr>\n",
       "      <th>1</th>\n",
       "      <td>7.0</td>\n",
       "      <td>897.0</td>\n",
       "      <td>0.800000</td>\n",
       "      <td>4.2</td>\n",
       "    </tr>\n",
       "    <tr>\n",
       "      <th>2</th>\n",
       "      <td>7.4</td>\n",
       "      <td>1101.0</td>\n",
       "      <td>0.800000</td>\n",
       "      <td>1.8</td>\n",
       "    </tr>\n",
       "    <tr>\n",
       "      <th>3</th>\n",
       "      <td>8.0</td>\n",
       "      <td>656.0</td>\n",
       "      <td>2.137251</td>\n",
       "      <td>1.5</td>\n",
       "    </tr>\n",
       "    <tr>\n",
       "      <th>4</th>\n",
       "      <td>7.1</td>\n",
       "      <td>1182.0</td>\n",
       "      <td>0.300000</td>\n",
       "      <td>10.5</td>\n",
       "    </tr>\n",
       "  </tbody>\n",
       "</table>\n",
       "</div>"
      ],
      "text/plain": [
       "   pH-Mean  CONDUCTIVITY (µmhos/cm)-Mean  \\\n",
       "0      7.1                         178.0   \n",
       "1      7.0                         897.0   \n",
       "2      7.4                        1101.0   \n",
       "3      8.0                         656.0   \n",
       "4      7.1                        1182.0   \n",
       "\n",
       "   Biochemical oxygen demand (B.O.D.) (mg/l)-Mean  NITRATE- N (mg/l)-Mean  \n",
       "0                                        0.500000                     0.3  \n",
       "1                                        0.800000                     4.2  \n",
       "2                                        0.800000                     1.8  \n",
       "3                                        2.137251                     1.5  \n",
       "4                                        0.300000                    10.5  "
      ]
     },
     "execution_count": 31,
     "metadata": {},
     "output_type": "execute_result"
    }
   ],
   "source": [
    "x.head()"
   ]
  },
  {
   "cell_type": "code",
   "execution_count": 32,
   "id": "ca46adf7-58ac-4411-bf3e-739fe02cd37a",
   "metadata": {},
   "outputs": [
    {
     "data": {
      "text/plain": [
       "0    1\n",
       "1    1\n",
       "2    1\n",
       "3    1\n",
       "4    1\n",
       "Name: potability, dtype: int32"
      ]
     },
     "execution_count": 32,
     "metadata": {},
     "output_type": "execute_result"
    }
   ],
   "source": [
    "y.head()"
   ]
  },
  {
   "cell_type": "markdown",
   "id": "35b35b20-a04c-48ef-bf05-a8bc5decd459",
   "metadata": {},
   "source": [
    "Feature Scaling"
   ]
  },
  {
   "cell_type": "code",
   "execution_count": 33,
   "id": "f25c6fad-ce6e-4103-b3e9-6c2d0e0920d0",
   "metadata": {},
   "outputs": [],
   "source": [
    "from sklearn.preprocessing import StandardScaler\n",
    "std_scaler = StandardScaler()"
   ]
  },
  {
   "cell_type": "code",
   "execution_count": 34,
   "id": "ab4fa423-4d64-4398-bc78-0bcfa0c11a80",
   "metadata": {},
   "outputs": [
    {
     "data": {
      "text/plain": [
       "array([[-0.38252839, -0.59948429, -0.51961965, -0.56467618],\n",
       "       [-0.52344916, -0.23967344, -0.42440768,  0.04839225],\n",
       "       [ 0.0402339 , -0.13758524, -0.42440768, -0.32888063],\n",
       "       ...,\n",
       "       [ 0.60391696, -0.37028628, -0.23398374, -0.59611558],\n",
       "       [ 0.18115466, -0.62000202, -0.39267036, -0.59611558],\n",
       "       [ 0.88575849, -0.41432432, -0.39267036, -0.59611558]])"
      ]
     },
     "execution_count": 34,
     "metadata": {},
     "output_type": "execute_result"
    }
   ],
   "source": [
    "x_scaled = std_scaler.fit_transform(x)\n",
    "x_scaled"
   ]
  },
  {
   "cell_type": "markdown",
   "id": "623c7adf-3b23-4b82-b6b3-30b3a59fe5c6",
   "metadata": {},
   "source": [
    "Training and Testing"
   ]
  },
  {
   "cell_type": "code",
   "execution_count": 35,
   "id": "1173fd09-0d9f-4c60-a370-dbf47283a9b5",
   "metadata": {},
   "outputs": [],
   "source": [
    "from sklearn.model_selection import train_test_split\n",
    "x_train,x_test,y_train,y_test = train_test_split(x_scaled,y,test_size = 0.2,random_state = 42,stratify = y)"
   ]
  },
  {
   "cell_type": "code",
   "execution_count": 80,
   "id": "b225f8b4-c60c-4136-a286-edb57b73ec66",
   "metadata": {},
   "outputs": [],
   "source": [
    "X = df[['pH-Mean', 'CONDUCTIVITY (µmhos/cm)-Mean', 'Biochemical oxygen demand (B.O.D.) (mg/l)-Mean', 'NITRATE- N (mg/l)-Mean']]  \n",
    "y = df['potability']"
   ]
  },
  {
   "cell_type": "code",
   "execution_count": 81,
   "id": "932ee467-3117-49ed-90f2-f4c12f66b426",
   "metadata": {},
   "outputs": [
    {
     "data": {
      "text/plain": [
       "((276, 4), (70, 4))"
      ]
     },
     "execution_count": 81,
     "metadata": {},
     "output_type": "execute_result"
    }
   ],
   "source": [
    "x_train.shape,x_test.shape"
   ]
  },
  {
   "cell_type": "code",
   "execution_count": 91,
   "id": "5e86bb85-ad04-4a34-a686-443996c067cf",
   "metadata": {},
   "outputs": [],
   "source": [
    "def water_Quality_Prediction(input_data):\n",
    "    # Ensure that input_data is 2D (n_samples, n_features)\n",
    "    if input_data.ndim == 1:\n",
    "        input_data = input_data.reshape(1, -1)  # Reshape to 2D if it's a single sample\n",
    "    \n",
    "    # Now scale the data (no need for extra [])\n",
    "    scaled_data = std_scaler.transform(input_data)\n",
    "    \n",
    "    # Make the prediction\n",
    "    model_prediction = best_estimator.predict(scaled_data)\n",
    "    \n",
    "    # Return the appropriate message\n",
    "    if model_prediction[0] == 0:\n",
    "        return \"The water is NOT safe to drink\"\n",
    "    else:\n",
    "        return \"The water is safe to drink\"\n"
   ]
  },
  {
   "cell_type": "code",
   "execution_count": 92,
   "id": "0619357f-83bc-4acc-8413-fbc284693334",
   "metadata": {},
   "outputs": [
    {
     "data": {
      "image/png": "[encoded data removed]",
      "text/plain": [
       "<Figure size 800x600 with 2 Axes>"
      ]
     },
     "metadata": {},
     "output_type": "display_data"
    }
   ],
   "source": [
    "# Predicting for the entire test set without using .values since X_test is a NumPy array\n",
    "y_pred = [water_Quality_Prediction(sample) for sample in x_test]  # Loop through test samples\n",
    "\n",
    "# Convert predictions from messages to binary (0 or 1)\n",
    "y_pred = [1 if pred == \"The water is safe to drink\" else 0 for pred in y_pred]\n",
    "\n",
    "# Generate confusion matrix\n",
    "conf_matrix = confusion_matrix(y_test, y_pred)\n",
    "\n",
    "# Visualize the confusion matrix\n",
    "plt.figure(figsize=(8, 6))\n",
    "sns.heatmap(conf_matrix, annot=True, fmt='d', cmap='coolwarm')\n",
    "plt.xlabel('Predicted Labels')\n",
    "plt.ylabel('True Labels')\n",
    "plt.title('Confusion Matrix - Water Quality Prediction')\n",
    "plt.show()\n"
   ]
  },
  {
   "cell_type": "markdown",
   "id": "e48e7874-f4c5-4d8e-9bb1-f6e6c66da063",
   "metadata": {},
   "source": [
    "Model Development:"
   ]
  },
  {
   "cell_type": "code",
   "execution_count": 37,
   "id": "77cff937-5765-4f76-8e0d-65201b400f94",
   "metadata": {},
   "outputs": [],
   "source": [
    "from sklearn.linear_model import LogisticRegression\n",
    "from sklearn.tree import DecisionTreeClassifier\n",
    "from sklearn.ensemble import RandomForestClassifier\n",
    "from sklearn.svm import SVC\n",
    "from sklearn.naive_bayes import GaussianNB"
   ]
  },
  {
   "cell_type": "code",
   "execution_count": 38,
   "id": "8b1a5e17-6ef7-4bc3-87d7-2629013b4f64",
   "metadata": {},
   "outputs": [],
   "source": [
    "LR = LogisticRegression()\n",
    "DT = DecisionTreeClassifier()\n",
    "RF = RandomForestClassifier()\n",
    "SVM = SVC()\n",
    "NB = GaussianNB()"
   ]
  },
  {
   "cell_type": "markdown",
   "id": "3bab2f60-2a94-418d-a8ab-9bbf6ce90261",
   "metadata": {},
   "source": [
    "Developing Pipeline"
   ]
  },
  {
   "cell_type": "code",
   "execution_count": 39,
   "id": "2241fe86-81c6-4619-9d2b-0c4aeefba058",
   "metadata": {},
   "outputs": [],
   "source": [
    "from sklearn.model_selection import cross_val_score"
   ]
  },
  {
   "cell_type": "code",
   "execution_count": 40,
   "id": "2a71f835-9e55-4399-9791-82590cefe123",
   "metadata": {},
   "outputs": [
    {
     "data": {
      "text/html": [
       "<div>\n",
       "<style scoped>\n",
       "    .dataframe tbody tr th:only-of-type {\n",
       "        vertical-align: middle;\n",
       "    }\n",
       "\n",
       "    .dataframe tbody tr th {\n",
       "        vertical-align: top;\n",
       "    }\n",
       "\n",
       "    .dataframe thead th {\n",
       "        text-align: right;\n",
       "    }\n",
       "</style>\n",
       "<table border=\"1\" class=\"dataframe\">\n",
       "  <thead>\n",
       "    <tr style=\"text-align: right;\">\n",
       "      <th></th>\n",
       "      <th>Model</th>\n",
       "      <th>Cross_Val_Accuracy</th>\n",
       "    </tr>\n",
       "  </thead>\n",
       "  <tbody>\n",
       "    <tr>\n",
       "      <th>0</th>\n",
       "      <td>LogisticRegression</td>\n",
       "      <td>80.612836</td>\n",
       "    </tr>\n",
       "    <tr>\n",
       "      <th>1</th>\n",
       "      <td>DecisionTreeClassifier</td>\n",
       "      <td>98.563147</td>\n",
       "    </tr>\n",
       "    <tr>\n",
       "      <th>2</th>\n",
       "      <td>RandomForestClassifier</td>\n",
       "      <td>98.563147</td>\n",
       "    </tr>\n",
       "    <tr>\n",
       "      <th>3</th>\n",
       "      <td>SVC</td>\n",
       "      <td>91.329193</td>\n",
       "    </tr>\n",
       "    <tr>\n",
       "      <th>4</th>\n",
       "      <td>GaussianNB</td>\n",
       "      <td>85.830228</td>\n",
       "    </tr>\n",
       "  </tbody>\n",
       "</table>\n",
       "</div>"
      ],
      "text/plain": [
       "                    Model  Cross_Val_Accuracy\n",
       "0      LogisticRegression           80.612836\n",
       "1  DecisionTreeClassifier           98.563147\n",
       "2  RandomForestClassifier           98.563147\n",
       "3                     SVC           91.329193\n",
       "4              GaussianNB           85.830228"
      ]
     },
     "execution_count": 40,
     "metadata": {},
     "output_type": "execute_result"
    }
   ],
   "source": [
    "models = [LR,DT,RF,SVM,NB]\n",
    "features = x_scaled\n",
    "labels = y\n",
    "CV = 5 #creates 5 folds\n",
    "accu_list = [] #Accuracy List\n",
    "ModelName = [] #Model Name List\n",
    "\n",
    "for model in models:\n",
    "    model_name = model.__class__.__name__\n",
    "    accuracies = cross_val_score(model, features, labels, scoring = 'accuracy', cv = CV)\n",
    "    accu_list.append(accuracies.mean()*100)\n",
    "    ModelName.append(model_name)\n",
    "\n",
    "model_acc_df = pd.DataFrame({\"Model\" :ModelName, \"Cross_Val_Accuracy\" : accu_list})\n",
    "model_acc_df"
   ]
  },
  {
   "cell_type": "code",
   "execution_count": 41,
   "id": "db524adc-e7a7-411f-88c1-fd9b8dd9baaa",
   "metadata": {},
   "outputs": [],
   "source": [
    "from sklearn.metrics import classification_report"
   ]
  },
  {
   "cell_type": "code",
   "execution_count": 42,
   "id": "875fd6ef-210e-4eda-9737-d8cca2fcf2c0",
   "metadata": {},
   "outputs": [],
   "source": [
    "DT.fit(x_train,y_train)\n",
    "RF.fit(x_train,y_train)\n",
    "SVM.fit(x_train,y_train)\n",
    "y_pred_dt = DT.predict(x_test)\n",
    "y_pred_rf = RF.predict(x_test)\n",
    "y_pred_svm = SVM.predict(x_test)"
   ]
  },
  {
   "cell_type": "code",
   "execution_count": 43,
   "id": "45450b2d-3ef8-434a-b099-5d8d72fc5b54",
   "metadata": {},
   "outputs": [
    {
     "name": "stdout",
     "output_type": "stream",
     "text": [
      "              precision    recall  f1-score   support\n",
      "\n",
      "           0       1.00      1.00      1.00        29\n",
      "           1       1.00      1.00      1.00        41\n",
      "\n",
      "    accuracy                           1.00        70\n",
      "   macro avg       1.00      1.00      1.00        70\n",
      "weighted avg       1.00      1.00      1.00        70\n",
      "\n"
     ]
    }
   ],
   "source": [
    "print(classification_report(y_test,y_pred_dt))"
   ]
  },
  {
   "cell_type": "code",
   "execution_count": 44,
   "id": "9ed9a29c-d818-4dc2-b83a-9f5620c31f1b",
   "metadata": {},
   "outputs": [
    {
     "name": "stdout",
     "output_type": "stream",
     "text": [
      "              precision    recall  f1-score   support\n",
      "\n",
      "           0       1.00      1.00      1.00        29\n",
      "           1       1.00      1.00      1.00        41\n",
      "\n",
      "    accuracy                           1.00        70\n",
      "   macro avg       1.00      1.00      1.00        70\n",
      "weighted avg       1.00      1.00      1.00        70\n",
      "\n"
     ]
    }
   ],
   "source": [
    "print(classification_report(y_test,y_pred_rf))"
   ]
  },
  {
   "cell_type": "code",
   "execution_count": 45,
   "id": "5127853e-9b8d-49b9-b0ca-4c64ad6cb0fa",
   "metadata": {},
   "outputs": [
    {
     "name": "stdout",
     "output_type": "stream",
     "text": [
      "              precision    recall  f1-score   support\n",
      "\n",
      "           0       0.96      0.90      0.93        29\n",
      "           1       0.93      0.98      0.95        41\n",
      "\n",
      "    accuracy                           0.94        70\n",
      "   macro avg       0.95      0.94      0.94        70\n",
      "weighted avg       0.94      0.94      0.94        70\n",
      "\n"
     ]
    }
   ],
   "source": [
    "print(classification_report(y_test,y_pred_svm))"
   ]
  },
  {
   "cell_type": "code",
   "execution_count": 46,
   "id": "78efba66-5f22-4a19-bb53-a4e12e55a5ef",
   "metadata": {},
   "outputs": [
    {
     "data": {
      "image/png": "[encoded data removed]",
      "text/plain": [
       "<Figure size 700x500 with 1 Axes>"
      ]
     },
     "metadata": {},
     "output_type": "display_data"
    }
   ],
   "source": [
    "from sklearn.metrics import roc_curve, auc\n",
    "y_scores = RF.predict_proba(x_test)[:, 1]\n",
    "fpr, tpr, thresholds = roc_curve(y_test, y_scores)\n",
    "roc_auc = auc(fpr, tpr)\n",
    "plt.figure(figsize = (7,5))\n",
    "plt.plot(fpr, tpr, color='blue', lw = 2, label=f'ROC curve (area = {roc_auc})')\n",
    "plt.plot([0,1], [0,1], color='red', lw = 2, linestyle='--')\n",
    "plt.xlim([0.0,1.0])\n",
    "plt.ylim([0.0,1.05])\n",
    "plt.xlabel('False Positive Rate')\n",
    "plt.ylabel('True Positive Rate')\n",
    "plt.title('Receiver Operating Characteristic (ROC)')\n",
    "plt.legend(loc=\"lower right\")\n",
    "plt.show()"
   ]
  },
  {
   "cell_type": "markdown",
   "id": "b2e59c46-a11e-4e46-b1bb-0f7ea034a82d",
   "metadata": {},
   "source": [
    "Hyper parameter training"
   ]
  },
  {
   "cell_type": "code",
   "execution_count": 47,
   "id": "b67a8bc2-b046-4126-8085-48f6f878677d",
   "metadata": {},
   "outputs": [
    {
     "name": "stdout",
     "output_type": "stream",
     "text": [
      "Fitting 3 folds for each of 24 candidates, totalling 72 fits\n",
      "Best Hyperparameters for Random Forest are =  {'criterion': 'gini', 'min_samples_leaf': 1, 'min_samples_split': 2, 'n_estimators': 100}\n"
     ]
    }
   ],
   "source": [
    "from sklearn.model_selection import GridSearchCV, RandomizedSearchCV\n",
    "from sklearn.model_selection import StratifiedKFold\n",
    "\n",
    "params_RF = {\"min_samples_split\": [2,6],\"min_samples_leaf\": [1,4],\"n_estimators\" :[100,200,300],\"criterion\":[\"gini\",'entropy']}\n",
    "cv_method = StratifiedKFold(n_splits=3)\n",
    "GridSearchCV_RF = GridSearchCV(estimator = RandomForestClassifier(),param_grid = params_RF,cv = cv_method,verbose = 1,n_jobs=2,\n",
    "                               scoring=\"accuracy\",return_train_score=True)\n",
    "GridSearchCV_RF.fit(x_train,y_train)\n",
    "best_params_RF = GridSearchCV_RF.best_params_\n",
    "print(\"Best Hyperparameters for Random Forest are = \",best_params_RF)"
   ]
  },
  {
   "cell_type": "code",
   "execution_count": 48,
   "id": "de3cc9eb-b8f4-4dcb-899b-0756cdff7f96",
   "metadata": {},
   "outputs": [
    {
     "data": {
      "text/html": [
       "<style>#sk-container-id-1 {\n",
       "  /* Definition of color scheme common for light and dark mode */\n",
       "  --sklearn-color-text: black;\n",
       "  --sklearn-color-line: gray;\n",
       "  /* Definition of color scheme for unfitted estimators */\n",
       "  --sklearn-color-unfitted-level-0: #fff5e6;\n",
       "  --sklearn-color-unfitted-level-1: #f6e4d2;\n",
       "  --sklearn-color-unfitted-level-2: #ffe0b3;\n",
       "  --sklearn-color-unfitted-level-3: chocolate;\n",
       "  /* Definition of color scheme for fitted estimators */\n",
       "  --sklearn-color-fitted-level-0: #f0f8ff;\n",
       "  --sklearn-color-fitted-level-1: #d4ebff;\n",
       "  --sklearn-color-fitted-level-2: #b3dbfd;\n",
       "  --sklearn-color-fitted-level-3: cornflowerblue;\n",
       "\n",
       "  /* Specific color for light theme */\n",
       "  --sklearn-color-text-on-default-background: var(--sg-text-color, var(--theme-code-foreground, var(--jp-content-font-color1, black)));\n",
       "  --sklearn-color-background: var(--sg-background-color, var(--theme-background, var(--jp-layout-color0, white)));\n",
       "  --sklearn-color-border-box: var(--sg-text-color, var(--theme-code-foreground, var(--jp-content-font-color1, black)));\n",
       "  --sklearn-color-icon: #696969;\n",
       "\n",
       "  @media (prefers-color-scheme: dark) {\n",
       "    /* Redefinition of color scheme for dark theme */\n",
       "    --sklearn-color-text-on-default-background: var(--sg-text-color, var(--theme-code-foreground, var(--jp-content-font-color1, white)));\n",
       "    --sklearn-color-background: var(--sg-background-color, var(--theme-background, var(--jp-layout-color0, #111)));\n",
       "    --sklearn-color-border-box: var(--sg-text-color, var(--theme-code-foreground, var(--jp-content-font-color1, white)));\n",
       "    --sklearn-color-icon: #878787;\n",
       "  }\n",
       "}\n",
       "\n",
       "#sk-container-id-1 {\n",
       "  color: var(--sklearn-color-text);\n",
       "}\n",
       "\n",
       "#sk-container-id-1 pre {\n",
       "  padding: 0;\n",
       "}\n",
       "\n",
       "#sk-container-id-1 input.sk-hidden--visually {\n",
       "  border: 0;\n",
       "  clip: rect(1px 1px 1px 1px);\n",
       "  clip: rect(1px, 1px, 1px, 1px);\n",
       "  height: 1px;\n",
       "  margin: -1px;\n",
       "  overflow: hidden;\n",
       "  padding: 0;\n",
       "  position: absolute;\n",
       "  width: 1px;\n",
       "}\n",
       "\n",
       "#sk-container-id-1 div.sk-dashed-wrapped {\n",
       "  border: 1px dashed var(--sklearn-color-line);\n",
       "  margin: 0 0.4em 0.5em 0.4em;\n",
       "  box-sizing: border-box;\n",
       "  padding-bottom: 0.4em;\n",
       "  background-color: var(--sklearn-color-background);\n",
       "}\n",
       "\n",
       "#sk-container-id-1 div.sk-container {\n",
       "  /* jupyter's `normalize.less` sets `[hidden] { display: none; }`\n",
       "     but bootstrap.min.css set `[hidden] { display: none !important; }`\n",
       "     so we also need the `!important` here to be able to override the\n",
       "     default hidden behavior on the sphinx rendered scikit-learn.org.\n",
       "     See: https://github.com/scikit-learn/scikit-learn/issues/21755 */\n",
       "  display: inline-block !important;\n",
       "  position: relative;\n",
       "}\n",
       "\n",
       "#sk-container-id-1 div.sk-text-repr-fallback {\n",
       "  display: none;\n",
       "}\n",
       "\n",
       "div.sk-parallel-item,\n",
       "div.sk-serial,\n",
       "div.sk-item {\n",
       "  /* draw centered vertical line to link estimators */\n",
       "  background-image: linear-gradient(var(--sklearn-color-text-on-default-background), var(--sklearn-color-text-on-default-background));\n",
       "  background-size: 2px 100%;\n",
       "  background-repeat: no-repeat;\n",
       "  background-position: center center;\n",
       "}\n",
       "\n",
       "/* Parallel-specific style estimator block */\n",
       "\n",
       "#sk-container-id-1 div.sk-parallel-item::after {\n",
       "  content: \"\";\n",
       "  width: 100%;\n",
       "  border-bottom: 2px solid var(--sklearn-color-text-on-default-background);\n",
       "  flex-grow: 1;\n",
       "}\n",
       "\n",
       "#sk-container-id-1 div.sk-parallel {\n",
       "  display: flex;\n",
       "  align-items: stretch;\n",
       "  justify-content: center;\n",
       "  background-color: var(--sklearn-color-background);\n",
       "  position: relative;\n",
       "}\n",
       "\n",
       "#sk-container-id-1 div.sk-parallel-item {\n",
       "  display: flex;\n",
       "  flex-direction: column;\n",
       "}\n",
       "\n",
       "#sk-container-id-1 div.sk-parallel-item:first-child::after {\n",
       "  align-self: flex-end;\n",
       "  width: 50%;\n",
       "}\n",
       "\n",
       "#sk-container-id-1 div.sk-parallel-item:last-child::after {\n",
       "  align-self: flex-start;\n",
       "  width: 50%;\n",
       "}\n",
       "\n",
       "#sk-container-id-1 div.sk-parallel-item:only-child::after {\n",
       "  width: 0;\n",
       "}\n",
       "\n",
       "/* Serial-specific style estimator block */\n",
       "\n",
       "#sk-container-id-1 div.sk-serial {\n",
       "  display: flex;\n",
       "  flex-direction: column;\n",
       "  align-items: center;\n",
       "  background-color: var(--sklearn-color-background);\n",
       "  padding-right: 1em;\n",
       "  padding-left: 1em;\n",
       "}\n",
       "\n",
       "\n",
       "/* Toggleable style: style used for estimator/Pipeline/ColumnTransformer box that is\n",
       "clickable and can be expanded/collapsed.\n",
       "- Pipeline and ColumnTransformer use this feature and define the default style\n",
       "- Estimators will overwrite some part of the style using the `sk-estimator` class\n",
       "*/\n",
       "\n",
       "/* Pipeline and ColumnTransformer style (default) */\n",
       "\n",
       "#sk-container-id-1 div.sk-toggleable {\n",
       "  /* Default theme specific background. It is overwritten whether we have a\n",
       "  specific estimator or a Pipeline/ColumnTransformer */\n",
       "  background-color: var(--sklearn-color-background);\n",
       "}\n",
       "\n",
       "/* Toggleable label */\n",
       "#sk-container-id-1 label.sk-toggleable__label {\n",
       "  cursor: pointer;\n",
       "  display: block;\n",
       "  width: 100%;\n",
       "  margin-bottom: 0;\n",
       "  padding: 0.5em;\n",
       "  box-sizing: border-box;\n",
       "  text-align: center;\n",
       "}\n",
       "\n",
       "#sk-container-id-1 label.sk-toggleable__label-arrow:before {\n",
       "  /* Arrow on the left of the label */\n",
       "  content: \"▸\";\n",
       "  float: left;\n",
       "  margin-right: 0.25em;\n",
       "  color: var(--sklearn-color-icon);\n",
       "}\n",
       "\n",
       "#sk-container-id-1 label.sk-toggleable__label-arrow:hover:before {\n",
       "  color: var(--sklearn-color-text);\n",
       "}\n",
       "\n",
       "/* Toggleable content - dropdown */\n",
       "\n",
       "#sk-container-id-1 div.sk-toggleable__content {\n",
       "  max-height: 0;\n",
       "  max-width: 0;\n",
       "  overflow: hidden;\n",
       "  text-align: left;\n",
       "  /* unfitted */\n",
       "  background-color: var(--sklearn-color-unfitted-level-0);\n",
       "}\n",
       "\n",
       "#sk-container-id-1 div.sk-toggleable__content.fitted {\n",
       "  /* fitted */\n",
       "  background-color: var(--sklearn-color-fitted-level-0);\n",
       "}\n",
       "\n",
       "#sk-container-id-1 div.sk-toggleable__content pre {\n",
       "  margin: 0.2em;\n",
       "  border-radius: 0.25em;\n",
       "  color: var(--sklearn-color-text);\n",
       "  /* unfitted */\n",
       "  background-color: var(--sklearn-color-unfitted-level-0);\n",
       "}\n",
       "\n",
       "#sk-container-id-1 div.sk-toggleable__content.fitted pre {\n",
       "  /* unfitted */\n",
       "  background-color: var(--sklearn-color-fitted-level-0);\n",
       "}\n",
       "\n",
       "#sk-container-id-1 input.sk-toggleable__control:checked~div.sk-toggleable__content {\n",
       "  /* Expand drop-down */\n",
       "  max-height: 200px;\n",
       "  max-width: 100%;\n",
       "  overflow: auto;\n",
       "}\n",
       "\n",
       "#sk-container-id-1 input.sk-toggleable__control:checked~label.sk-toggleable__label-arrow:before {\n",
       "  content: \"▾\";\n",
       "}\n",
       "\n",
       "/* Pipeline/ColumnTransformer-specific style */\n",
       "\n",
       "#sk-container-id-1 div.sk-label input.sk-toggleable__control:checked~label.sk-toggleable__label {\n",
       "  color: var(--sklearn-color-text);\n",
       "  background-color: var(--sklearn-color-unfitted-level-2);\n",
       "}\n",
       "\n",
       "#sk-container-id-1 div.sk-label.fitted input.sk-toggleable__control:checked~label.sk-toggleable__label {\n",
       "  background-color: var(--sklearn-color-fitted-level-2);\n",
       "}\n",
       "\n",
       "/* Estimator-specific style */\n",
       "\n",
       "/* Colorize estimator box */\n",
       "#sk-container-id-1 div.sk-estimator input.sk-toggleable__control:checked~label.sk-toggleable__label {\n",
       "  /* unfitted */\n",
       "  background-color: var(--sklearn-color-unfitted-level-2);\n",
       "}\n",
       "\n",
       "#sk-container-id-1 div.sk-estimator.fitted input.sk-toggleable__control:checked~label.sk-toggleable__label {\n",
       "  /* fitted */\n",
       "  background-color: var(--sklearn-color-fitted-level-2);\n",
       "}\n",
       "\n",
       "#sk-container-id-1 div.sk-label label.sk-toggleable__label,\n",
       "#sk-container-id-1 div.sk-label label {\n",
       "  /* The background is the default theme color */\n",
       "  color: var(--sklearn-color-text-on-default-background);\n",
       "}\n",
       "\n",
       "/* On hover, darken the color of the background */\n",
       "#sk-container-id-1 div.sk-label:hover label.sk-toggleable__label {\n",
       "  color: var(--sklearn-color-text);\n",
       "  background-color: var(--sklearn-color-unfitted-level-2);\n",
       "}\n",
       "\n",
       "/* Label box, darken color on hover, fitted */\n",
       "#sk-container-id-1 div.sk-label.fitted:hover label.sk-toggleable__label.fitted {\n",
       "  color: var(--sklearn-color-text);\n",
       "  background-color: var(--sklearn-color-fitted-level-2);\n",
       "}\n",
       "\n",
       "/* Estimator label */\n",
       "\n",
       "#sk-container-id-1 div.sk-label label {\n",
       "  font-family: monospace;\n",
       "  font-weight: bold;\n",
       "  display: inline-block;\n",
       "  line-height: 1.2em;\n",
       "}\n",
       "\n",
       "#sk-container-id-1 div.sk-label-container {\n",
       "  text-align: center;\n",
       "}\n",
       "\n",
       "/* Estimator-specific */\n",
       "#sk-container-id-1 div.sk-estimator {\n",
       "  font-family: monospace;\n",
       "  border: 1px dotted var(--sklearn-color-border-box);\n",
       "  border-radius: 0.25em;\n",
       "  box-sizing: border-box;\n",
       "  margin-bottom: 0.5em;\n",
       "  /* unfitted */\n",
       "  background-color: var(--sklearn-color-unfitted-level-0);\n",
       "}\n",
       "\n",
       "#sk-container-id-1 div.sk-estimator.fitted {\n",
       "  /* fitted */\n",
       "  background-color: var(--sklearn-color-fitted-level-0);\n",
       "}\n",
       "\n",
       "/* on hover */\n",
       "#sk-container-id-1 div.sk-estimator:hover {\n",
       "  /* unfitted */\n",
       "  background-color: var(--sklearn-color-unfitted-level-2);\n",
       "}\n",
       "\n",
       "#sk-container-id-1 div.sk-estimator.fitted:hover {\n",
       "  /* fitted */\n",
       "  background-color: var(--sklearn-color-fitted-level-2);\n",
       "}\n",
       "\n",
       "/* Specification for estimator info (e.g. \"i\" and \"?\") */\n",
       "\n",
       "/* Common style for \"i\" and \"?\" */\n",
       "\n",
       ".sk-estimator-doc-link,\n",
       "a:link.sk-estimator-doc-link,\n",
       "a:visited.sk-estimator-doc-link {\n",
       "  float: right;\n",
       "  font-size: smaller;\n",
       "  line-height: 1em;\n",
       "  font-family: monospace;\n",
       "  background-color: var(--sklearn-color-background);\n",
       "  border-radius: 1em;\n",
       "  height: 1em;\n",
       "  width: 1em;\n",
       "  text-decoration: none !important;\n",
       "  margin-left: 1ex;\n",
       "  /* unfitted */\n",
       "  border: var(--sklearn-color-unfitted-level-1) 1pt solid;\n",
       "  color: var(--sklearn-color-unfitted-level-1);\n",
       "}\n",
       "\n",
       ".sk-estimator-doc-link.fitted,\n",
       "a:link.sk-estimator-doc-link.fitted,\n",
       "a:visited.sk-estimator-doc-link.fitted {\n",
       "  /* fitted */\n",
       "  border: var(--sklearn-color-fitted-level-1) 1pt solid;\n",
       "  color: var(--sklearn-color-fitted-level-1);\n",
       "}\n",
       "\n",
       "/* On hover */\n",
       "div.sk-estimator:hover .sk-estimator-doc-link:hover,\n",
       ".sk-estimator-doc-link:hover,\n",
       "div.sk-label-container:hover .sk-estimator-doc-link:hover,\n",
       ".sk-estimator-doc-link:hover {\n",
       "  /* unfitted */\n",
       "  background-color: var(--sklearn-color-unfitted-level-3);\n",
       "  color: var(--sklearn-color-background);\n",
       "  text-decoration: none;\n",
       "}\n",
       "\n",
       "div.sk-estimator.fitted:hover .sk-estimator-doc-link.fitted:hover,\n",
       ".sk-estimator-doc-link.fitted:hover,\n",
       "div.sk-label-container:hover .sk-estimator-doc-link.fitted:hover,\n",
       ".sk-estimator-doc-link.fitted:hover {\n",
       "  /* fitted */\n",
       "  background-color: var(--sklearn-color-fitted-level-3);\n",
       "  color: var(--sklearn-color-background);\n",
       "  text-decoration: none;\n",
       "}\n",
       "\n",
       "/* Span, style for the box shown on hovering the info icon */\n",
       ".sk-estimator-doc-link span {\n",
       "  display: none;\n",
       "  z-index: 9999;\n",
       "  position: relative;\n",
       "  font-weight: normal;\n",
       "  right: .2ex;\n",
       "  padding: .5ex;\n",
       "  margin: .5ex;\n",
       "  width: min-content;\n",
       "  min-width: 20ex;\n",
       "  max-width: 50ex;\n",
       "  color: var(--sklearn-color-text);\n",
       "  box-shadow: 2pt 2pt 4pt #999;\n",
       "  /* unfitted */\n",
       "  background: var(--sklearn-color-unfitted-level-0);\n",
       "  border: .5pt solid var(--sklearn-color-unfitted-level-3);\n",
       "}\n",
       "\n",
       ".sk-estimator-doc-link.fitted span {\n",
       "  /* fitted */\n",
       "  background: var(--sklearn-color-fitted-level-0);\n",
       "  border: var(--sklearn-color-fitted-level-3);\n",
       "}\n",
       "\n",
       ".sk-estimator-doc-link:hover span {\n",
       "  display: block;\n",
       "}\n",
       "\n",
       "/* \"?\"-specific style due to the `<a>` HTML tag */\n",
       "\n",
       "#sk-container-id-1 a.estimator_doc_link {\n",
       "  float: right;\n",
       "  font-size: 1rem;\n",
       "  line-height: 1em;\n",
       "  font-family: monospace;\n",
       "  background-color: var(--sklearn-color-background);\n",
       "  border-radius: 1rem;\n",
       "  height: 1rem;\n",
       "  width: 1rem;\n",
       "  text-decoration: none;\n",
       "  /* unfitted */\n",
       "  color: var(--sklearn-color-unfitted-level-1);\n",
       "  border: var(--sklearn-color-unfitted-level-1) 1pt solid;\n",
       "}\n",
       "\n",
       "#sk-container-id-1 a.estimator_doc_link.fitted {\n",
       "  /* fitted */\n",
       "  border: var(--sklearn-color-fitted-level-1) 1pt solid;\n",
       "  color: var(--sklearn-color-fitted-level-1);\n",
       "}\n",
       "\n",
       "/* On hover */\n",
       "#sk-container-id-1 a.estimator_doc_link:hover {\n",
       "  /* unfitted */\n",
       "  background-color: var(--sklearn-color-unfitted-level-3);\n",
       "  color: var(--sklearn-color-background);\n",
       "  text-decoration: none;\n",
       "}\n",
       "\n",
       "#sk-container-id-1 a.estimator_doc_link.fitted:hover {\n",
       "  /* fitted */\n",
       "  background-color: var(--sklearn-color-fitted-level-3);\n",
       "}\n",
       "</style><div id=\"sk-container-id-1\" class=\"sk-top-container\"><div class=\"sk-text-repr-fallback\"><pre>RandomForestClassifier()</pre><b>In a Jupyter environment, please rerun this cell to show the HTML representation or trust the notebook. <br />On GitHub, the HTML representation is unable to render, please try loading this page with nbviewer.org.</b></div><div class=\"sk-container\" hidden><div class=\"sk-item\"><div class=\"sk-estimator fitted sk-toggleable\"><input class=\"sk-toggleable__control sk-hidden--visually\" id=\"sk-estimator-id-1\" type=\"checkbox\" checked><label for=\"sk-estimator-id-1\" class=\"sk-toggleable__label fitted sk-toggleable__label-arrow fitted\">&nbsp;&nbsp;RandomForestClassifier<a class=\"sk-estimator-doc-link fitted\" rel=\"noreferrer\" target=\"_blank\" href=\"https://scikit-learn.org/1.5/modules/generated/sklearn.ensemble.RandomForestClassifier.html\">?<span>Documentation for RandomForestClassifier</span></a><span class=\"sk-estimator-doc-link fitted\">i<span>Fitted</span></span></label><div class=\"sk-toggleable__content fitted\"><pre>RandomForestClassifier()</pre></div> </div></div></div></div>"
      ],
      "text/plain": [
       "RandomForestClassifier()"
      ]
     },
     "execution_count": 48,
     "metadata": {},
     "output_type": "execute_result"
    }
   ],
   "source": [
    "best_estimator = GridSearchCV_RF.best_estimator_\n",
    "best_estimator "
   ]
  },
  {
   "cell_type": "code",
   "execution_count": 49,
   "id": "0cb26ee4-9b5b-4a09-852b-42a3f59c76ec",
   "metadata": {},
   "outputs": [
    {
     "name": "stdout",
     "output_type": "stream",
     "text": [
      "              precision    recall  f1-score   support\n",
      "\n",
      "           0       1.00      1.00      1.00        29\n",
      "           1       1.00      1.00      1.00        41\n",
      "\n",
      "    accuracy                           1.00        70\n",
      "   macro avg       1.00      1.00      1.00        70\n",
      "weighted avg       1.00      1.00      1.00        70\n",
      "\n"
     ]
    }
   ],
   "source": [
    "best_estimator = GridSearchCV_RF.best_estimator_\n",
    "best_estimator.fit(x_train,y_train)\n",
    "y_pred_best = best_estimator.predict(x_test)\n",
    "print(classification_report(y_test, y_pred_best))"
   ]
  },
  {
   "cell_type": "markdown",
   "id": "91b9a014-8100-4195-8d31-f860740237cb",
   "metadata": {},
   "source": [
    "Predictive system"
   ]
  },
  {
   "cell_type": "code",
   "execution_count": 50,
   "id": "9bdda6bc-640d-4612-b46b-baeb2a86f6be",
   "metadata": {},
   "outputs": [
    {
     "data": {
      "text/plain": [
       "Index(['pH-Mean', 'CONDUCTIVITY (µmhos/cm)-Mean',\n",
       "       'Biochemical oxygen demand (B.O.D.) (mg/l)-Mean',\n",
       "       'NITRATE- N (mg/l)-Mean', 'potability'],\n",
       "      dtype='object')"
      ]
     },
     "execution_count": 50,
     "metadata": {},
     "output_type": "execute_result"
    }
   ],
   "source": [
    "df.columns"
   ]
  },
  {
   "cell_type": "code",
   "execution_count": 51,
   "id": "3c50bfb1-8b84-46db-b064-c6fa1129cd62",
   "metadata": {},
   "outputs": [
    {
     "data": {
      "text/plain": [
       "[7.4, 1101.0, 0.8, 1.8, 1.0]"
      ]
     },
     "execution_count": 51,
     "metadata": {},
     "output_type": "execute_result"
    }
   ],
   "source": [
    "list1 = df.iloc[2:3, 0:5].values.flatten().tolist()\n",
    "list1"
   ]
  },
  {
   "cell_type": "code",
   "execution_count": 52,
   "id": "1b0f6fc1-a95f-4a6a-ad20-27755325582b",
   "metadata": {},
   "outputs": [
    {
     "data": {
      "text/plain": [
       "Index(['pH-Mean', 'CONDUCTIVITY (µmhos/cm)-Mean',\n",
       "       'Biochemical oxygen demand (B.O.D.) (mg/l)-Mean',\n",
       "       'NITRATE- N (mg/l)-Mean', 'potability'],\n",
       "      dtype='object')"
      ]
     },
     "execution_count": 52,
     "metadata": {},
     "output_type": "execute_result"
    }
   ],
   "source": [
    "df.columns"
   ]
  },
  {
   "cell_type": "code",
   "execution_count": 53,
   "id": "ef2c6fec-a610-4e4f-9a9c-2835956d3780",
   "metadata": {},
   "outputs": [
    {
     "name": "stdin",
     "output_type": "stream",
     "text": [
      "Enter the Ph value =  3\n",
      "Enter the Conductivity value =  3\n",
      "Enter the BOD value =  3\n",
      "Enter the Nitrate value =  3\n"
     ]
    }
   ],
   "source": [
    "\n",
    "pH = float(input('Enter the Ph value = '))\n",
    "CONDUCTIVITY = float(input('Enter the Conductivity value = '))\n",
    "BOD = float(input('Enter the BOD value = '))\n",
    "NITRATE = float(input('Enter the Nitrate value = '))"
   ]
  },
  {
   "cell_type": "code",
   "execution_count": 54,
   "id": "b65f4ccb-0bf0-4d23-ad22-7a45334085c6",
   "metadata": {},
   "outputs": [],
   "source": [
    "input_data = [pH, CONDUCTIVITY, BOD, NITRATE]"
   ]
  },
  {
   "cell_type": "code",
   "execution_count": 55,
   "id": "44b68c54-b673-41c7-8f85-ec21d69b989f",
   "metadata": {},
   "outputs": [
    {
     "data": {
      "text/plain": [
       "array([[-6.16027975, -0.68705995,  0.27381345, -0.14024419]])"
      ]
     },
     "execution_count": 55,
     "metadata": {},
     "output_type": "execute_result"
    }
   ],
   "source": [
    "df_input = std_scaler.transform([[pH, CONDUCTIVITY, BOD, NITRATE]])\n",
    "df_input"
   ]
  },
  {
   "cell_type": "code",
   "execution_count": 56,
   "id": "6794270e-ff42-4d71-8a53-0af291b9d9c4",
   "metadata": {},
   "outputs": [
    {
     "data": {
      "text/plain": [
       "array([0])"
      ]
     },
     "execution_count": 56,
     "metadata": {},
     "output_type": "execute_result"
    }
   ],
   "source": [
    "model_prediction = best_estimator.predict(df_input)\n",
    "model_prediction"
   ]
  },
  {
   "cell_type": "code",
   "execution_count": 57,
   "id": "d83071cb-52b0-40f5-897f-c8d4a4551152",
   "metadata": {},
   "outputs": [
    {
     "name": "stdout",
     "output_type": "stream",
     "text": [
      "Water is Not SAFE for Consumption\n"
     ]
    }
   ],
   "source": [
    "if model_prediction[0] == 0:\n",
    "    print(\"Water is Not SAFE for Consumption\")\n",
    "else:\n",
    "    print(\"Water is SAFE for Consumption\")"
   ]
  },
  {
   "cell_type": "code",
   "execution_count": 58,
   "id": "c3b9d347-b593-4fbc-a2cb-827d6fb744df",
   "metadata": {},
   "outputs": [],
   "source": [
    "def water_Quality_Prediction(input_data):\n",
    "    scaled_data = std_scaler.transform([input_data])\n",
    "    model_prediction = best_estimator.predict(scaled_data)\n",
    "    if model_prediction[0] == 0:\n",
    "        return \"Water is 'NOT SAFE' for Consumption\"\n",
    "    else:\n",
    "        return \"Water is 'SAFE' for Consumption\""
   ]
  },
  {
   "cell_type": "code",
   "execution_count": 59,
   "id": "576ad457-b1f1-4854-ae3e-d9df3799a02e",
   "metadata": {},
   "outputs": [
    {
     "name": "stdin",
     "output_type": "stream",
     "text": [
      "Enter the Ph value =  3\n",
      "Enter the Conductivity value =  3\n",
      "Enter the BOD value =  3\n",
      "Enter the Nitrate value =  3\n"
     ]
    },
    {
     "data": {
      "text/plain": [
       "\"Water is 'NOT SAFE' for Consumption\""
      ]
     },
     "execution_count": 59,
     "metadata": {},
     "output_type": "execute_result"
    }
   ],
   "source": [
    "pH = float(input('Enter the Ph value = '))\n",
    "CONDUCTIVITY = float(input('Enter the Conductivity value = '))\n",
    "BOD = float(input('Enter the BOD value = '))\n",
    "NITRATE = float(input('Enter the Nitrate value = '))\n",
    "\n",
    "input_data = [pH, CONDUCTIVITY, BOD, NITRATE]\n",
    "water_Quality_Prediction(input_data)"
   ]
  },
  {
   "cell_type": "markdown",
   "id": "d4d5f1d8-6ff9-4f19-b691-63442e3a2ddf",
   "metadata": {},
   "source": [
    "Load Trained Model"
   ]
  },
  {
   "cell_type": "code",
   "execution_count": 64,
   "id": "fe8d7874-4370-4f12-a6c8-cda6abb55418",
   "metadata": {},
   "outputs": [],
   "source": [
    "import pickle\n",
    "with open('model.pkl','wb') as file:\n",
    "    pickle.dump(best_estimator, file)"
   ]
  },
  {
   "cell_type": "code",
   "execution_count": 65,
   "id": "f7440980-8739-4d44-8a65-5722a5d1d8a7",
   "metadata": {},
   "outputs": [],
   "source": [
    "with open('std_scaler.pkl','wb') as file:\n",
    "    pickle.dump(std_scaler, file)"
   ]
  },
  {
   "cell_type": "code",
   "execution_count": 66,
   "id": "120c7ea2-1ba9-4352-92d1-cd018f248c97",
   "metadata": {},
   "outputs": [],
   "source": [
    "import pickle\n",
    "with open('model.pkl', 'rb') as file:\n",
    "    model = pickle.load(file)\n",
    "\n",
    "with open('std_scaler.pkl', 'rb') as file:\n",
    "    scaler = pickle.load(file)"
   ]
  },
  {
   "cell_type": "code",
   "execution_count": 67,
   "id": "e2e54856-8b55-449c-adb1-a8cd1c24c399",
   "metadata": {},
   "outputs": [
    {
     "data": {
      "text/plain": [
       "Index(['pH-Mean', 'CONDUCTIVITY (µmhos/cm)-Mean',\n",
       "       'Biochemical oxygen demand (B.O.D.) (mg/l)-Mean',\n",
       "       'NITRATE- N (mg/l)-Mean', 'potability'],\n",
       "      dtype='object')"
      ]
     },
     "execution_count": 67,
     "metadata": {},
     "output_type": "execute_result"
    }
   ],
   "source": [
    "df.columns"
   ]
  },
  {
   "cell_type": "code",
   "execution_count": null,
   "id": "c8eb0ff1-e2b0-4f90-a6af-3893d91a5a7f",
   "metadata": {},
   "outputs": [],
   "source": []
  },
  {
   "cell_type": "code",
   "execution_count": null,
   "id": "ad0c98fd-93bd-433a-a957-763bfee607e7",
   "metadata": {},
   "outputs": [],
   "source": []
  },
  {
   "cell_type": "code",
   "execution_count": null,
   "id": "54875f0b-3c50-46c9-b2bd-e6ad31623388",
   "metadata": {},
   "outputs": [],
   "source": []
  }
 ],
 "metadata": {
  "kernelspec": {
   "display_name": "Python 3 (ipykernel)",
   "language": "python",
   "name": "python3"
  },
  "language_info": {
   "codemirror_mode": {
    "name": "ipython",
    "version": 3
   },
   "file_extension": ".py",
   "mimetype": "text/x-python",
   "name": "python",
   "nbconvert_exporter": "python",
   "pygments_lexer": "ipython3",
   "version": "3.12.6"
  }
 },
 "nbformat": 4,
 "nbformat_minor": 5
}
